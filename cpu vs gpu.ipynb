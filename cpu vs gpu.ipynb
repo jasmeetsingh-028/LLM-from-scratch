{
 "cells": [
  {
   "cell_type": "code",
   "execution_count": 13,
   "id": "6e256002-e5df-410b-80bf-babbd0eed890",
   "metadata": {},
   "outputs": [
    {
     "name": "stdout",
     "output_type": "stream",
     "text": [
      "cuda\n"
     ]
    }
   ],
   "source": [
    "import time\n",
    "import torch\n",
    "device = 'cuda' if torch.cuda.is_available() else 'cpu'\n",
    "print(device)"
   ]
  },
  {
   "cell_type": "code",
   "execution_count": 23,
   "id": "485fa0ef-c0ab-40fc-9224-6d385df360da",
   "metadata": {},
   "outputs": [],
   "source": [
    "import time\n",
    "import numpy as np"
   ]
  },
  {
   "cell_type": "markdown",
   "id": "fb76dce2-26f0-4b0f-a1d3-cd041ff72fe7",
   "metadata": {},
   "source": [
    "* torch.mm(a, b) and a @ b perform matrix multiplication in PyTorch.\n",
    "* np.multiply(a, b) computes element-wise multiplication in NumPy.\n",
    "* a * b performs element-wise multiplication in Python, typically with NumPy arrays.\n",
    "* np.dot(a,b) performs matrix multiplication in numpy."
   ]
  },
  {
   "cell_type": "code",
   "execution_count": 26,
   "id": "4aee039c-48ae-4a7a-9dfa-a7615a4e0e66",
   "metadata": {},
   "outputs": [
    {
     "name": "stderr",
     "output_type": "stream",
     "text": [
      "UsageError: Line magic function `%%time` not found.\n"
     ]
    }
   ],
   "source": [
    "##doing stuff with gpu\n",
    "#measure difference between gpu and cpu processing\n",
    "\n",
    "a = torch.rand(10000,10000).to(device)\n",
    "b = torch.rand(10000,10000).to(device)\n",
    "\n",
    "a_np = torch.rand(10000,10000)\n",
    "b_np = torch.rand(10000,10000)\n",
    "\n",
    "start_time = time.time()\n",
    "#matrix multiplication with device\n",
    "mm = torch.mm(a,b)\n",
    "end_time = time.time()\n",
    "print(f\"Time time to complete operation with tensors to device: {(end_time  - start_time):.5f}\")\n",
    "\n",
    "\n",
    "start_time = time.time()\n",
    "#matrix multiplication with numpy not on device\n",
    "mm = np.dot(a_np, b_np)\n",
    "end_time = time.time()\n",
    "print(f\"Time time to complete operation with tensors not on device: {(end_time  - start_time):.5f}\")"
   ]
  },
  {
   "cell_type": "code",
   "execution_count": 25,
   "id": "7d3e3192-e0b8-4dbf-92dc-e8b1f63feebf",
   "metadata": {},
   "outputs": [
    {
     "name": "stdout",
     "output_type": "stream",
     "text": [
      "Time time to complete operation with tensors to device: 0.06162\n",
      "Time time to complete operation with tensors not on device: 0.44552\n"
     ]
    }
   ],
   "source": [
    "##doing stuff with gpu\n",
    "#measure difference between gpu and cpu processing\n",
    "\n",
    "a = torch.rand(10000,10000).to(device)\n",
    "b = torch.rand(10000,10000).to(device)\n",
    "\n",
    "a_np = torch.rand(10000,10000)\n",
    "b_np = torch.rand(10000,10000)\n",
    "\n",
    "start_time = time.time()\n",
    "#element wise multiplication with device\n",
    "ewm = a*b\n",
    "end_time = time.time()\n",
    "print(f\"Time time to complete operation with tensors to device: {(end_time  - start_time):.5f}\")\n",
    "\n",
    "\n",
    "start_time = time.time()\n",
    "#element wise multiplication multiplication with numpy not on device\n",
    "ewm = np.multiply(a_np, b_np)\n",
    "end_time = time.time()\n",
    "print(f\"Time time to complete operation with tensors not on device: {(end_time  - start_time):.5f}\")"
   ]
  },
  {
   "cell_type": "code",
   "execution_count": null,
   "id": "401c3949-25a0-4d1a-9d45-d0ee0b71205b",
   "metadata": {},
   "outputs": [],
   "source": []
  }
 ],
 "metadata": {
  "kernelspec": {
   "display_name": "cuda-llm",
   "language": "python",
   "name": "cuda"
  },
  "language_info": {
   "codemirror_mode": {
    "name": "ipython",
    "version": 3
   },
   "file_extension": ".py",
   "mimetype": "text/x-python",
   "name": "python",
   "nbconvert_exporter": "python",
   "pygments_lexer": "ipython3",
   "version": "3.8.8"
  }
 },
 "nbformat": 4,
 "nbformat_minor": 5
}
