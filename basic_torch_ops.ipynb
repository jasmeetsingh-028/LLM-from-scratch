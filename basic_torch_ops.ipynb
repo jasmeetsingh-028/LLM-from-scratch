{
 "cells": [
  {
   "cell_type": "code",
   "execution_count": 1,
   "id": "2dad7032-70f3-4367-ba9b-47418a5fa60c",
   "metadata": {},
   "outputs": [],
   "source": [
    "import torch"
   ]
  },
  {
   "cell_type": "code",
   "execution_count": 2,
   "id": "967a6557-5f25-4e70-9149-7657484d250b",
   "metadata": {},
   "outputs": [],
   "source": [
    "tensor =  torch.randint(-100, 100, (8,))"
   ]
  },
  {
   "cell_type": "code",
   "execution_count": 3,
   "id": "bd1ce7bf-d49b-4e69-9ced-6ed94a2f3dfa",
   "metadata": {},
   "outputs": [
    {
     "data": {
      "text/plain": [
       "tensor([  9,  33, -10, -92, -25,  87,  60,  79])"
      ]
     },
     "execution_count": 3,
     "metadata": {},
     "output_type": "execute_result"
    }
   ],
   "source": [
    "tensor"
   ]
  },
  {
   "cell_type": "code",
   "execution_count": 67,
   "id": "aaf86bed-f424-4bb0-be7e-929087039b6c",
   "metadata": {},
   "outputs": [
    {
     "data": {
      "text/plain": [
       "tensor([ 8, 19,  2,  1,  6, 12,  8,  1])"
      ]
     },
     "execution_count": 67,
     "metadata": {},
     "output_type": "execute_result"
    }
   ],
   "source": [
    "tensor =  torch.randint(20, (8,))\n",
    "tensor"
   ]
  },
  {
   "cell_type": "code",
   "execution_count": 4,
   "id": "0d2d6359-41ae-46a0-9c1b-03f7e10aabd2",
   "metadata": {},
   "outputs": [],
   "source": [
    "tensor = torch.tensor([[0.1, 1.2], [2.2, 3.1], [4.9, 5.2]])"
   ]
  },
  {
   "cell_type": "code",
   "execution_count": 5,
   "id": "45a6f0c3-1f2d-410d-912a-d7d700c0de7d",
   "metadata": {},
   "outputs": [
    {
     "data": {
      "text/plain": [
       "tensor([[0.1000, 1.2000],\n",
       "        [2.2000, 3.1000],\n",
       "        [4.9000, 5.2000]])"
      ]
     },
     "execution_count": 5,
     "metadata": {},
     "output_type": "execute_result"
    }
   ],
   "source": [
    "tensor"
   ]
  },
  {
   "cell_type": "code",
   "execution_count": 6,
   "id": "7130f7ab-d1d4-4dfb-8a4d-a52ea2dfca5a",
   "metadata": {},
   "outputs": [],
   "source": [
    "zeros = torch.zeros(2,3)"
   ]
  },
  {
   "cell_type": "code",
   "execution_count": 7,
   "id": "887625cc-9fd3-41b7-bef0-260884416c91",
   "metadata": {},
   "outputs": [
    {
     "data": {
      "text/plain": [
       "tensor([[0., 0., 0.],\n",
       "        [0., 0., 0.]])"
      ]
     },
     "execution_count": 7,
     "metadata": {},
     "output_type": "execute_result"
    }
   ],
   "source": [
    "zeros"
   ]
  },
  {
   "cell_type": "code",
   "execution_count": 10,
   "id": "f1699353-cdb3-4bed-84cd-e92cd71ba161",
   "metadata": {},
   "outputs": [],
   "source": [
    "ones = torch.ones((3,3))"
   ]
  },
  {
   "cell_type": "code",
   "execution_count": 11,
   "id": "c0be1be6-b278-47dd-b8e6-8682fbb542de",
   "metadata": {},
   "outputs": [
    {
     "data": {
      "text/plain": [
       "tensor([[1., 1., 1.],\n",
       "        [1., 1., 1.],\n",
       "        [1., 1., 1.]])"
      ]
     },
     "execution_count": 11,
     "metadata": {},
     "output_type": "execute_result"
    }
   ],
   "source": [
    "ones"
   ]
  },
  {
   "cell_type": "code",
   "execution_count": 12,
   "id": "30642f0c-37b7-4bb0-8446-fa6258f6991c",
   "metadata": {},
   "outputs": [
    {
     "data": {
      "text/plain": [
       "tensor([[-1.9765e+05,  1.6900e-42,  0.0000e+00],\n",
       "        [ 0.0000e+00,  0.0000e+00,  0.0000e+00]])"
      ]
     },
     "execution_count": 12,
     "metadata": {},
     "output_type": "execute_result"
    }
   ],
   "source": [
    "input = torch.empty(2,3)  #either very large or very small\n",
    "input"
   ]
  },
  {
   "cell_type": "code",
   "execution_count": 35,
   "id": "9a8deddb-e2d8-4e77-819c-bd7232129654",
   "metadata": {},
   "outputs": [
    {
     "data": {
      "text/plain": [
       "tensor([0, 1, 2, 3, 4, 5, 6, 7, 8, 9])"
      ]
     },
     "execution_count": 35,
     "metadata": {},
     "output_type": "execute_result"
    }
   ],
   "source": [
    "arange = torch.arange(10)\n",
    "arange"
   ]
  },
  {
   "cell_type": "code",
   "execution_count": 32,
   "id": "68693dc2-22f4-467b-af04-aa11edeeb688",
   "metadata": {},
   "outputs": [],
   "source": [
    "arange = torch.arange(3, 10)"
   ]
  },
  {
   "cell_type": "code",
   "execution_count": 33,
   "id": "5859aa2a-6ab1-4bc0-aa34-09f6796a4e90",
   "metadata": {},
   "outputs": [
    {
     "data": {
      "text/plain": [
       "tensor([3, 4, 5, 6, 7, 8, 9])"
      ]
     },
     "execution_count": 33,
     "metadata": {},
     "output_type": "execute_result"
    }
   ],
   "source": [
    "arange"
   ]
  },
  {
   "cell_type": "code",
   "execution_count": 30,
   "id": "aa472f71-4e94-47c8-9a2b-70aeaa478d27",
   "metadata": {},
   "outputs": [],
   "source": [
    "arange = torch.arange(-5,0)"
   ]
  },
  {
   "cell_type": "code",
   "execution_count": 31,
   "id": "76f29f0d-34da-4fe4-8471-1a7048a50622",
   "metadata": {},
   "outputs": [
    {
     "data": {
      "text/plain": [
       "tensor([-5, -4, -3, -2, -1])"
      ]
     },
     "execution_count": 31,
     "metadata": {},
     "output_type": "execute_result"
    }
   ],
   "source": [
    "arange"
   ]
  },
  {
   "cell_type": "code",
   "execution_count": 22,
   "id": "c1052557-6924-46e7-ad27-ce55e1e74b89",
   "metadata": {},
   "outputs": [],
   "source": [
    "linspace = torch.linspace(3, 10, steps=8)"
   ]
  },
  {
   "cell_type": "code",
   "execution_count": 23,
   "id": "7dbdf3da-079a-43dc-b1b2-d11984a94589",
   "metadata": {},
   "outputs": [
    {
     "data": {
      "text/plain": [
       "tensor([ 3.,  4.,  5.,  6.,  7.,  8.,  9., 10.])"
      ]
     },
     "execution_count": 23,
     "metadata": {},
     "output_type": "execute_result"
    }
   ],
   "source": [
    "linspace"
   ]
  },
  {
   "cell_type": "code",
   "execution_count": 44,
   "id": "86459a1a-df84-4004-aa19-ca55aeae9f41",
   "metadata": {},
   "outputs": [],
   "source": [
    "logspace = torch.logspace(start = -10, end = 10, steps = 30)"
   ]
  },
  {
   "cell_type": "code",
   "execution_count": 45,
   "id": "09d1cc41-3a70-4584-8476-aacf6a6159a9",
   "metadata": {},
   "outputs": [
    {
     "data": {
      "text/plain": [
       "tensor([1.0000e-10, 4.8939e-10, 2.3950e-09, 1.1721e-08, 5.7362e-08, 2.8072e-07,\n",
       "        1.3738e-06, 6.7234e-06, 3.2903e-05, 1.6103e-04, 7.8805e-04, 3.8566e-03,\n",
       "        1.8874e-02, 9.2367e-02, 4.5204e-01, 2.2122e+00, 1.0826e+01, 5.2983e+01,\n",
       "        2.5929e+02, 1.2690e+03, 6.2102e+03, 3.0392e+04, 1.4874e+05, 7.2790e+05,\n",
       "        3.5622e+06, 1.7433e+07, 8.5317e+07, 4.1753e+08, 2.0434e+09, 1.0000e+10])"
      ]
     },
     "execution_count": 45,
     "metadata": {},
     "output_type": "execute_result"
    }
   ],
   "source": [
    "logspace"
   ]
  },
  {
   "cell_type": "code",
   "execution_count": 46,
   "id": "cc472f49-1ada-42e8-a63f-959323527f6e",
   "metadata": {},
   "outputs": [
    {
     "data": {
      "image/png": "[encoded data removed]",
      "text/plain": [
       "<Figure size 640x480 with 1 Axes>"
      ]
     },
     "metadata": {},
     "output_type": "display_data"
    }
   ],
   "source": [
    "import matplotlib.pyplot as plt\n",
    "\n",
    "plt.plot(logspace)\n",
    "plt.show()"
   ]
  },
  {
   "cell_type": "code",
   "execution_count": 48,
   "id": "4146e270-e5bc-452c-9f67-4cc774dec9f6",
   "metadata": {},
   "outputs": [
    {
     "data": {
      "text/plain": [
       "tensor([[1., 0., 0., 0., 0.],\n",
       "        [0., 1., 0., 0., 0.],\n",
       "        [0., 0., 1., 0., 0.],\n",
       "        [0., 0., 0., 1., 0.],\n",
       "        [0., 0., 0., 0., 1.]])"
      ]
     },
     "execution_count": 48,
     "metadata": {},
     "output_type": "execute_result"
    }
   ],
   "source": [
    "eye = torch.eye(5)  #diagonal matrix with diagonal elements 1\n",
    "eye"
   ]
  },
  {
   "cell_type": "code",
   "execution_count": 56,
   "id": "68c4a0dd-4094-43e8-9f84-98a9bb49ecc9",
   "metadata": {},
   "outputs": [
    {
     "data": {
      "text/plain": [
       "tensor([[0, 0, 0],\n",
       "        [0, 0, 0]])"
      ]
     },
     "execution_count": 56,
     "metadata": {},
     "output_type": "execute_result"
    }
   ],
   "source": [
    "a = torch.empty((2,3), dtype = torch.int64)\n",
    "empty_like = torch.empty_like(a)\n",
    "empty_like"
   ]
  },
  {
   "cell_type": "code",
   "execution_count": 57,
   "id": "415b885a-0f82-483f-8e3c-c54d7698cf32",
   "metadata": {},
   "outputs": [
    {
     "data": {
      "text/plain": [
       "tensor([[5183090395440,             0,             0],\n",
       "        [            0,             0,             0]])"
      ]
     },
     "execution_count": 57,
     "metadata": {},
     "output_type": "execute_result"
    }
   ],
   "source": [
    "a"
   ]
  },
  {
   "cell_type": "code",
   "execution_count": 64,
   "id": "fee4af03-0cf5-4b9e-815f-7ddf55339ed8",
   "metadata": {},
   "outputs": [],
   "source": [
    "device = 'cuda' if  torch.cuda.is_available() else 'cpu'"
   ]
  },
  {
   "cell_type": "code",
   "execution_count": 65,
   "id": "39bb4956-1924-4300-bfbc-9bb156396ea3",
   "metadata": {},
   "outputs": [
    {
     "data": {
      "text/plain": [
       "'cuda'"
      ]
     },
     "execution_count": 65,
     "metadata": {},
     "output_type": "execute_result"
    }
   ],
   "source": [
    "device"
   ]
  },
  {
   "cell_type": "code",
   "execution_count": 66,
   "id": "836cf507-4682-4776-970d-5f708ec0901d",
   "metadata": {},
   "outputs": [
    {
     "name": "stdout",
     "output_type": "stream",
     "text": [
      "Time time to complete operation: 0.002002239227294922\n"
     ]
    }
   ],
   "source": [
    "##doing stuff with gpu\n",
    "#measure difference between gpu and cpu processing\n",
    "import time\n",
    "\n",
    "start_time = time.time()\n",
    "a = torch.randint(-100,100, (3,3))\n",
    "b = torch.randint(-100,100, (3,3))\n",
    "#matrix multiplication\n",
    "mm = torch.mm(a,b)\n",
    "end_time = time.time()\n",
    "print(f\"Time time to complete operation: {end_time  - start_time}\")"
   ]
  },
  {
   "cell_type": "code",
   "execution_count": null,
   "id": "2fbbe680-917a-4879-9c56-96981bcf3ee5",
   "metadata": {},
   "outputs": [],
   "source": []
  }
 ],
 "metadata": {
  "kernelspec": {
   "display_name": "cuda-llm",
   "language": "python",
   "name": "cuda"
  },
  "language_info": {
   "codemirror_mode": {
    "name": "ipython",
    "version": 3
   },
   "file_extension": ".py",
   "mimetype": "text/x-python",
   "name": "python",
   "nbconvert_exporter": "python",
   "pygments_lexer": "ipython3",
   "version": "3.8.8"
  }
 },
 "nbformat": 4,
 "nbformat_minor": 5
}
