{
 "cells": [
  {
   "cell_type": "code",
   "execution_count": 1,
   "id": "7c99dd87-a792-4d95-b1c6-1cf8abfc86ee",
   "metadata": {},
   "outputs": [
    {
     "name": "stdout",
     "output_type": "stream",
     "text": [
      "cuda\n"
     ]
    }
   ],
   "source": [
    "import torch \n",
    "import numpy as np\n",
    "import torch.nn as nn\n",
    "import torch.nn.functional as F\n",
    "\n",
    "device = 'cuda' if torch.cuda.is_available() else 'cpu'\n",
    "print(device)"
   ]
  },
  {
   "cell_type": "code",
   "execution_count": 19,
   "id": "d50b5926-3faa-4a6f-803e-700e931ad583",
   "metadata": {},
   "outputs": [],
   "source": [
    "n_embedd  = 384 #number of total dims we want to capture from all heads concatenated together\n",
    "n_decoders = 4  #4 decoder layers\n",
    "dropout = 0.2 #20% neurons are dropped out to prevent overfitting\n",
    "num_attention_heads= 4 # number of attention heads running in parallel\n",
    "max_iters = 1000  #number of training itterations\n",
    "learning_rate = 3e-3 #for optimizer\n",
    "eval_iters = 100 #for reporting loss\n",
    "block_size = 64  #size of one input sequence\n",
    "batch_size = 128  #how many block sized input sequences we want at the same time"
   ]
  },
  {
   "cell_type": "code",
   "execution_count": 20,
   "id": "3845f745-b82e-4ba2-8e66-488d97f56ad3",
   "metadata": {},
   "outputs": [
    {
     "name": "stdout",
     "output_type": "stream",
     "text": [
      "['\\n', ' ', '!', '\"', '&', \"'\", '(', ')', '*', ',', '-', '.', '0', '1', '3', '5', '7', ':', ';', '?', 'A', 'B', 'C', 'D', 'E', 'F', 'G', 'H', 'I', 'J', 'K', 'L', 'M', 'N', 'O', 'P', 'Q', 'R', 'S', 'T', 'U', 'V', 'W', 'X', 'Y', 'Z', '[', ']', '_', 'a', 'b', 'c', 'd', 'e', 'f', 'g', 'h', 'i', 'j', 'k', 'l', 'm', 'n', 'o', 'p', 'q', 'r', 's', 't', 'u', 'v', 'w', 'x', 'y', 'z', '£', '§', 'Ñ', 'æ', 'é', 'ê', 'ñ', 'ö', '†', '‡', '\\ufeff'] 86\n"
     ]
    }
   ],
   "source": [
    "chars = \"\"   #open web text - cant read 45 gbs of text at once \n",
    "with open('data\\Two sailor lads.txt', 'r', encoding = 'utf-8') as f:\n",
    "    text = f.read()\n",
    "    chars = sorted(set(text))\n",
    "print(chars, len(chars))"
   ]
  },
  {
   "cell_type": "code",
   "execution_count": 21,
   "id": "09501ec7-445b-4793-8dc4-14c5ab74930a",
   "metadata": {},
   "outputs": [],
   "source": [
    "##vocab\n",
    "text_to_int = {char:idx for idx, char in enumerate(chars)}\n",
    "int_to_text = {idx:char for idx, char in enumerate(chars)}"
   ]
  },
  {
   "cell_type": "code",
   "execution_count": 22,
   "id": "bbd3a440-f3ba-489b-8623-800f415d4836",
   "metadata": {},
   "outputs": [],
   "source": [
    "encode = lambda z: [text_to_int[char] for char in z]\n",
    "decode = lambda z: ''.join(int_to_text[int] for int in z)"
   ]
  },
  {
   "cell_type": "code",
   "execution_count": 23,
   "id": "5d16efa7-be28-4cd3-b17e-1d3a5c02095c",
   "metadata": {},
   "outputs": [
    {
     "data": {
      "text/plain": [
       "[56, 53, 60, 60, 63]"
      ]
     },
     "execution_count": 23,
     "metadata": {},
     "output_type": "execute_result"
    }
   ],
   "source": [
    "encoded = encode('hello')\n",
    "encoded"
   ]
  },
  {
   "cell_type": "code",
   "execution_count": 24,
   "id": "a5fe22bb-4878-44eb-9772-cc1a69632a89",
   "metadata": {},
   "outputs": [
    {
     "data": {
      "text/plain": [
       "'hello'"
      ]
     },
     "execution_count": 24,
     "metadata": {},
     "output_type": "execute_result"
    }
   ],
   "source": [
    "decode(encoded)"
   ]
  },
  {
   "cell_type": "code",
   "execution_count": 25,
   "id": "60decc03-8e08-463e-b940-136ff94ed133",
   "metadata": {},
   "outputs": [],
   "source": [
    "data = torch.tensor(encode(text), dtype = torch.long) #long seq of integers"
   ]
  },
  {
   "cell_type": "code",
   "execution_count": 26,
   "id": "974115af-6dd8-431c-bf4e-dd057d7fc835",
   "metadata": {},
   "outputs": [
    {
     "name": "stdout",
     "output_type": "stream",
     "text": [
      "380708 95178\n"
     ]
    }
   ],
   "source": [
    "#validation and training split\n",
    "split_index = int(0.8 * len(text))\n",
    "train = data[:split_index]\n",
    "test = data[split_index:]\n",
    "print(len(train), len(test))"
   ]
  },
  {
   "cell_type": "code",
   "execution_count": 27,
   "id": "0f2ce962-a164-45c0-88fb-02dc12c8a233",
   "metadata": {},
   "outputs": [
    {
     "name": "stdout",
     "output_type": "stream",
     "text": [
      "inputs: tensor([[ 1, 51, 49, 62,  1, 67, 68, 53],\n",
      "        [ 1, 60, 53, 54, 68,  1, 57, 68],\n",
      "        [69, 68, 57, 63, 62,  1, 68, 63],\n",
      "        [63, 71, 62,  1, 20, 61, 53, 66]], device='cuda:0'), outputs: tensor([[51, 49, 62,  1, 67, 68, 53, 53],\n",
      "        [60, 53, 54, 68,  1, 57, 68,  1],\n",
      "        [68, 57, 63, 62,  1, 68, 63,  1],\n",
      "        [71, 62,  1, 20, 61, 53, 66, 57]], device='cuda:0')\n"
     ]
    }
   ],
   "source": [
    "block_size = 8\n",
    "batch_size = 4\n",
    "def get_batched_data(split):\n",
    "    data = train if 'train' else 'test'\n",
    "    random_indices = torch.randint((len(data)-block_size), (batch_size,)) #random indices of batch size inside the data\n",
    "    #print(random_indices)\n",
    "    x = torch.stack([data[i:i+block_size]for i in random_indices]) #stacking a batch of 4 input block each of block size = 8 \n",
    "    y = torch.stack([data[i+1:i+block_size+1]for i in random_indices]) #stacking a batch of 4 target block each of block size = 8 \n",
    "    return x.to(device), y.to(device)\n",
    "\n",
    "X,y = get_batched_data('train')\n",
    "print(f'inputs: {X}, outputs: {y}')"
   ]
  },
  {
   "cell_type": "code",
   "execution_count": 28,
   "id": "404b3894-f1d9-4a6f-a7f1-2a4796013483",
   "metadata": {},
   "outputs": [],
   "source": [
    "#scaled dot product attention\n",
    "\n",
    "#each head has 96 features and 4 heads in parallel = 384 features\n",
    "\n",
    "class AttentionHead(nn.Module):\n",
    "\n",
    "    def __init__(self, head_size):  # head_size-> n_embedd // num_attention_heads  384//4 -> 96\n",
    "        super().__init__()\n",
    "        self.key = nn.Linear(n_embedd, head_size, bias = False)  #384 -> 96 features\n",
    "        self.query = nn.Linear(n_embedd, head_size, bias = False)\n",
    "        self.value = nn.Linear(n_embedd, head_size, bias = False)\n",
    "        #register buffer registers no look ahead masking in the model state\n",
    "        #instaed of reinitializing it for every single head for every single forward and backward pass we add it to model state\n",
    "        #saves computation\n",
    "        #efficient way- reduces training time\n",
    "        #training can be donw without this but it would take longer to complete\n",
    "        self.register_buffer('tril', torch.tril(torch.ones(block_size, block_size)))#(8,8)\n",
    "        self.dropout = nn.Dropout(dropout) #20% neurons are dropped out\n",
    "\n",
    "    def forward(self, x):\n",
    "        #xshape: (B,T,C) --> (4,8,384)\n",
    "        B,T,C = x.shape  #(4,8,384)\n",
    "        k = self.key(x) # C or n_embedd (384) -> head_size(96)  (B,T,C) -> (B,T,hs)\n",
    "        q = self.query(x) # (B,T,C= 384) -> (B,T,hs = 96)\n",
    "        #calculating attention scores\n",
    "        #key.transpose(-2,-1) - interchanging last two dims (B,hs,T) = (4, 96, 8)\n",
    "        #SCALING: *key.shape[-1] = 96 -> sqrt(96) for \n",
    "        #query(B,T,hs) @ key(B,hs,T) -> (B, T, T)\n",
    "        scores = q @ k.transpose(-2,-1) * k.shape[-1]**-0.5\n",
    "        #masked fill - repacing 0 to -inf for T timestamp\n",
    "        #masked fill to prevent look ahead\n",
    "        scores = scores.masked_fill(self.tril[:T, :T] == 0, float('-inf'))\n",
    "        scores = F.softmax(scores, dim = -1) #(B,T,T) #confidence scores for prediction\n",
    "        scores = self.dropout(scores)  \n",
    "        v = self.value(x)  #(B,T,hs)\n",
    "        out = scores @ v\n",
    "        #print(f'shape after attention head: {out.shape}')\n",
    "        return out"
   ]
  },
  {
   "cell_type": "code",
   "execution_count": 29,
   "id": "ee23b7dd-cc7d-4a45-9a90-1d8660825f7f",
   "metadata": {},
   "outputs": [],
   "source": [
    "#keys and queries part will be implemented during dot product attention \n",
    "\n",
    "class MultiHeadAttention(nn.Module):\n",
    "    def __init__(self, num_attention_heads, head_size): ##(4, 96)\n",
    "        super().__init__()\n",
    "        #bunch of heads in parallel for each head\n",
    "        self.multiheads = nn.ModuleList([AttentionHead(head_size) for _ in range(num_attention_heads)]) #4 heads running in parallel\n",
    "        #below transformation adds another set of learnable parameters (weights and bias)\n",
    "        #kinda helps network learn more about the the text fed\n",
    "        self.proj = nn.Linear(head_size * num_attention_heads, n_embedd)  #head_size(96) * num_attention_head(4) = 384 ---projected_to---> n_embedd(384)\n",
    "        self.dropout = nn.Dropout(dropout)  #dropping out 20% of neurons\n",
    "\n",
    "    def forward(self, x):\n",
    "        out = torch.cat([head(x) for head in self.multiheads], dim = -1) #concatenation the out each head along the last dimension  (B,T,C)-> concatenate along channel dim\n",
    "        #4 heads running in parallel each having output (B,T,hs) \n",
    "        # on concatenating across dim=-1 output shape = (B,T, 4*hs) -> (B,T,C) \n",
    "        out = self.dropout(self.proj(out))\n",
    "        #print(f'out shape after multi head attention mech: {out.shape}')\n",
    "        return out "
   ]
  },
  {
   "cell_type": "code",
   "execution_count": 30,
   "id": "b5322008-caa6-4a3d-92b1-f2587b99e0bc",
   "metadata": {},
   "outputs": [],
   "source": [
    "class FeedForward(nn.Module):\n",
    "    def  __init__(self, n_embedd):\n",
    "        super().__init__()\n",
    "        self.netw = nn.Sequential(\n",
    "            nn.Linear(n_embedd, 4 * n_embedd),\n",
    "            nn.ReLU(),\n",
    "            nn.Linear(4 * n_embedd, n_embedd),\n",
    "            nn.Dropout(dropout),\n",
    "        )\n",
    "    def forward(self,x):\n",
    "        return self.netw(x)"
   ]
  },
  {
   "cell_type": "code",
   "execution_count": 31,
   "id": "2fd49330-8f31-47a9-b195-0722602c59c6",
   "metadata": {},
   "outputs": [],
   "source": [
    "class Decoder_block(nn.Module):\n",
    "\n",
    "    def __init__(self, n_embedd, num_attention_heads):  #input shape to decoder block -> (B, T, C)-(4,8,384)\n",
    "        super().__init__()\n",
    "        #n_head is the number of heads and embedd is the embedding dim\n",
    "        #each head captures 96 features -> head size\n",
    "        #4 attentions heads working in parallel\n",
    "        #how many features are each of them capturing?\n",
    "        head_size = n_embedd // num_attention_heads #is the number of features that each head will be capturing-> 384 // 4 - > 96 head_size\n",
    "        self.sa = MultiHeadAttention(num_attention_heads, head_size)  #(4, 96)\n",
    "        self.ffwd = FeedForward(n_embedd) #(384)\n",
    "        self.ln1 = nn.LayerNorm(n_embedd) #(384) for add and norm\n",
    "        self.ln2 = nn.LayerNorm(n_embedd) #(384) \n",
    "\n",
    "    def forward(self, x):\n",
    "        y = self.sa(x)\n",
    "        x = self.ln1(x + y)  #post norm arch -  Add and Norm. #skip connection \n",
    "        y = self.ffwd(x)\n",
    "        x = self.ln2(x + y)  #residual\n",
    "        #print(f'shape after Decode block: {x.shape}')\n",
    "        return x"
   ]
  },
  {
   "cell_type": "code",
   "execution_count": 32,
   "id": "543b3f18-d467-4cb8-887c-5e11aec3140a",
   "metadata": {},
   "outputs": [],
   "source": [
    "class GPTmodel(nn.Module):\n",
    "    def __init__(self, vocab_size):\n",
    "        super().__init__()\n",
    "        #what is embedding matrix\n",
    "        self.embedding_matrix = nn.Embedding(vocab_size, n_embedd)  #char level encoding art to vocab\n",
    "        self.positional_matrix = nn.Embedding(block_size, n_embedd)  #char level positional embedding wrt to position of each char in a block\n",
    "        \n",
    "        self.decoder_blocks = nn.Sequential(*[Decoder_block(n_embedd, num_attention_heads  = num_attention_heads) for _ in range(n_decoders)])\n",
    "        \n",
    "        self.final_layer_norm = nn.LayerNorm(n_embedd)\n",
    "        self.linear_head_final = nn.Linear(n_embedd, vocab_size)   #layer to get the next character given the input characters in hte vocab later softmax will be used to get the most probable character \n",
    "        \n",
    "        #initializing weights with mean = 0.0 and  std dev = 0.02\n",
    "        #helps training coverge better\n",
    "        #weights are initialized properly\n",
    "        self.apply(self._init_weights)\n",
    "\n",
    "    \n",
    "    def _init_weights(self, module):\n",
    "        if isinstance(module, nn.Linear):\n",
    "            torch.nn.init.normal_(module.weight, mean=0.0, std=0.02)\n",
    "            if module.bias is not None:\n",
    "                torch.nn.init.zeros_(module.bias)\n",
    "        elif isinstance(module, nn.Embedding):\n",
    "            torch.nn.init.normal_(module.weight, mean=0.0, std=0.02)\n",
    "                  \n",
    "\n",
    "    \n",
    "    def forward(self, index, targets = None):\n",
    "        #print(index.shape)\n",
    "        B, T = index.shape\n",
    "\n",
    "        \n",
    "        token_embeddings = self.embedding_matrix(index)  ##index (4,8) (B,T) --token_embeddings--> (4,8,384)(B,T,C)\n",
    "        pos_embeddings = self.positional_matrix(torch.arange(T, device = device))\n",
    "        x = token_embeddings + pos_embeddings  #broadcasting helps- check broadcasting semantics in torch SHAPE - (4,8,384)\n",
    "        #print(x.shape)\n",
    "        x = self.decoder_blocks(x)\n",
    "        x = self.final_layer_norm(x)\n",
    "        #print(f'final output shape before linear layer: {x.shape}')\n",
    "        logits = self.linear_head_final(x)\n",
    "        #print(f'final output shape: {logits.shape}')\n",
    "\n",
    "        \n",
    "        #what is logits?\n",
    "        #logits = self.embedding_matrix(index)\n",
    "        if targets is None:\n",
    "            print('FLAG')\n",
    "            loss = None\n",
    "        else:          \n",
    "            \n",
    "            B,T,C = logits.shape\n",
    "            logits = logits.view(B*T,C)\n",
    "            targets = targets.view(B*T)\n",
    "            #print(f'shape after reshaping logits: {logits.shape} and targets shape: {targets.shape}')\n",
    "            loss = F.cross_entropy(logits, targets)\n",
    "            #print(loss.item())\n",
    "            \n",
    "        return logits, loss\n",
    "\n",
    "    def generate(self,index,max_new_tokens):\n",
    "        for _ in range(max_new_tokens):\n",
    "            logits, loss = self.forward(index)\n",
    "            logits = logits[:,-1,:]  #dim ain't dimensioning: it is now as targets are default to None so no loss in logits dim(3-dim)\n",
    "            probs = F.softmax(logits, dim=-1)\n",
    "            index_next = torch.multinomial(probs, num_samples = 1)\n",
    "            index = torch.cat((index, index_next), dim = 1)\n",
    "        return index\n",
    "\n",
    "model = GPTmodel(vocab_size = len(chars))\n",
    "m = model.to(device)\n",
    "\n",
    "# context = torch.zeros((1,1), dtype = torch.long, device= device)\n",
    "# generated_chars = decode(m.generate(context, max_new_tokens = 500)[0].tolist())\n",
    "# print(generated_chars)"
   ]
  },
  {
   "cell_type": "code",
   "execution_count": 33,
   "id": "c500ac1c-5b3b-4c3c-be61-7cbe9c53e566",
   "metadata": {},
   "outputs": [],
   "source": [
    "@torch.no_grad()  #decorator for no grad since we are only caLculating the loss we do not need to compute gradient as no weight updation (optimization) happens here\n",
    "def estimate_loss():\n",
    "    out = {} \n",
    "    model.eval()  #eval model for model evaluation\n",
    "    for split in ['train', 'test']:\n",
    "        losses = torch.zeros(eval_iters)\n",
    "        for k in range(eval_iters):\n",
    "            X,Y = get_batched_data(split)\n",
    "            logits, loss = model(X, Y)  #model pass without using any gradients\n",
    "            losses[k] = loss.item()\n",
    "        out[split] = losses.mean()  #averaging loss over iters\n",
    "    model.train()  #puts model into training model: weights and biases are updated during this mode\n",
    "    return out"
   ]
  },
  {
   "cell_type": "code",
   "execution_count": 34,
   "id": "ee751ed7-dcab-4c2f-91ff-7bbd975b7e89",
   "metadata": {},
   "outputs": [
    {
     "name": "stdout",
     "output_type": "stream",
     "text": [
      "Step: 0, Training loss: 4.5514, Evaluation loss: 4.5513\n",
      "Step: 100, Training loss: 3.2692, Evaluation loss: 3.2543\n",
      "Step: 200, Training loss: 3.2315, Evaluation loss: 3.2261\n",
      "Step: 300, Training loss: 3.1777, Evaluation loss: 3.0994\n",
      "Step: 400, Training loss: 3.1762, Evaluation loss: 3.1713\n",
      "Step: 500, Training loss: 3.1807, Evaluation loss: 3.2158\n",
      "Step: 600, Training loss: 3.1827, Evaluation loss: 3.1536\n",
      "Step: 700, Training loss: 3.1817, Evaluation loss: 3.1843\n",
      "Step: 800, Training loss: 3.1024, Evaluation loss: 3.1582\n",
      "Step: 900, Training loss: 3.0991, Evaluation loss: 3.1446\n",
      "3.1766104698181152\n"
     ]
    }
   ],
   "source": [
    "# ##creating optimizer \n",
    "# max_iters = 1000\n",
    "# learning_rate = 3e-4\n",
    "# eval_iters = 250  #every 250 iterations evaluate the model\n",
    "\n",
    "optimizer = torch.optim.AdamW(model.parameters(), lr = learning_rate)\n",
    "\n",
    "for iter in range(max_iters):\n",
    "    if iter % eval_iters == 0:\n",
    "        out = estimate_loss()\n",
    "        print(f\"Step: {iter}, Training loss: {out['train']:.4f}, Evaluation loss: {out['test']:.4f}\")\n",
    "    #sample from batch of data\n",
    "    batched_x, batched_y = get_batched_data(split = 'train')\n",
    "    #evaluating loss and performing back propagation\n",
    "    logits, loss = m.forward(batched_x, batched_y)\n",
    "    optimizer.zero_grad(set_to_none = True)\n",
    "    loss.backward()  #differentiate the loss fn wrt parameters\n",
    "    optimizer.step() #update the parameters\n",
    "    \n",
    "print(loss.item()) #.item() get value from torch tensor"
   ]
  },
  {
   "cell_type": "code",
   "execution_count": null,
   "id": "cd9c0c96-eaf6-40e5-8c6f-71b21064ed88",
   "metadata": {},
   "outputs": [],
   "source": []
  }
 ],
 "metadata": {
  "kernelspec": {
   "display_name": "cuda-llm",
   "language": "python",
   "name": "cuda"
  },
  "language_info": {
   "codemirror_mode": {
    "name": "ipython",
    "version": 3
   },
   "file_extension": ".py",
   "mimetype": "text/x-python",
   "name": "python",
   "nbconvert_exporter": "python",
   "pygments_lexer": "ipython3",
   "version": "3.8.8"
  }
 },
 "nbformat": 4,
 "nbformat_minor": 5
}
