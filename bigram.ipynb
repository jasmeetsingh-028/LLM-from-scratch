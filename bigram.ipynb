{
 "cells": [
  {
   "cell_type": "code",
   "execution_count": 1,
   "id": "63df4d3d-b9e3-4f07-bc7d-3315332bfbd5",
   "metadata": {},
   "outputs": [],
   "source": [
    "import torch"
   ]
  },
  {
   "cell_type": "code",
   "execution_count": 2,
   "id": "87d475d9-0d89-4e79-8026-c4881d136c41",
   "metadata": {},
   "outputs": [
    {
     "name": "stdout",
     "output_type": "stream",
     "text": [
      "['\\n', ' ', '!', '\"', '&', \"'\", '(', ')', '*', ',', '-', '.', '0', '1', '3', '5', '7', ':', ';', '?', 'A', 'B', 'C', 'D', 'E', 'F', 'G', 'H', 'I', 'J', 'K', 'L', 'M', 'N', 'O', 'P', 'Q', 'R', 'S', 'T', 'U', 'V', 'W', 'X', 'Y', 'Z', '[', ']', '_', 'a', 'b', 'c', 'd', 'e', 'f', 'g', 'h', 'i', 'j', 'k', 'l', 'm', 'n', 'o', 'p', 'q', 'r', 's', 't', 'u', 'v', 'w', 'x', 'y', 'z', '£', '§', 'Ñ', 'æ', 'é', 'ê', 'ñ', 'ö', '†', '‡', '\\ufeff'] 86\n"
     ]
    }
   ],
   "source": [
    "with open('data/Two sailor lads.txt', 'r', encoding = 'utf-8') as f:\n",
    "    text = f.read()\n",
    "chars = sorted(set(text))\n",
    "print(chars, len(chars))"
   ]
  },
  {
   "cell_type": "code",
   "execution_count": 3,
   "id": "7439c39c-ae22-43ff-bc2a-a948f45791d7",
   "metadata": {},
   "outputs": [],
   "source": [
    "#tokenizer\n",
    "#character level tokenization- char to int, #smalll vocabulary\n",
    "char_to_int = {char: idx for idx, char in enumerate(chars)}\n",
    "int_to_chars = {idx: char for idx, char in enumerate(chars)}"
   ]
  },
  {
   "cell_type": "code",
   "execution_count": 4,
   "id": "aa29270f-2722-405b-9aaa-82a08d1956a0",
   "metadata": {},
   "outputs": [],
   "source": [
    "encode = lambda text: [char_to_int[char] for char in text]\n",
    "decode = lambda encoded_text: ''.join(int_to_chars[encoded_int] for encoded_int in encoded_text) "
   ]
  },
  {
   "cell_type": "code",
   "execution_count": 5,
   "id": "3edf1c23-2186-4caa-8db7-4f193c5f08dc",
   "metadata": {},
   "outputs": [
    {
     "data": {
      "text/plain": [
       "[56, 53, 60, 60, 63]"
      ]
     },
     "execution_count": 5,
     "metadata": {},
     "output_type": "execute_result"
    }
   ],
   "source": [
    "encoded = encode('hello')\n",
    "encoded"
   ]
  },
  {
   "cell_type": "code",
   "execution_count": 6,
   "id": "a9fcc2d4-f34a-41c8-b25d-7b003b66ffc6",
   "metadata": {},
   "outputs": [
    {
     "data": {
      "text/plain": [
       "'hello'"
      ]
     },
     "execution_count": 6,
     "metadata": {},
     "output_type": "execute_result"
    }
   ],
   "source": [
    "decode(encoded)"
   ]
  },
  {
   "cell_type": "code",
   "execution_count": 7,
   "id": "188a6283-c1d4-4cf3-bdd7-ced57ec7f474",
   "metadata": {},
   "outputs": [],
   "source": [
    "data = torch.tensor(encode(text), dtype = torch.long) #long seq of integers"
   ]
  },
  {
   "cell_type": "code",
   "execution_count": 8,
   "id": "9c0bb8b5-ed9a-4ff4-a2cb-a46466ce7341",
   "metadata": {},
   "outputs": [
    {
     "name": "stdout",
     "output_type": "stream",
     "text": [
      "tensor([85,  1,  1, 48, 39, 71, 63,  1, 38, 49, 57, 60, 63, 66,  1, 31, 49, 52,\n",
      "        67, 11, 48,  0,  0,  1,  1, 20,  1, 38, 39, 34, 37, 44,  1, 34, 25,  0,\n",
      "         0,  1,  1, 38, 39, 28, 37, 37, 28, 33, 26,  1, 20, 23, 41, 24, 33, 39,\n",
      "        40, 37, 24, 38,  1, 34, 33,  1, 38, 24, 20,  1, 20, 33, 23,  1, 31, 20,\n",
      "        33, 23,  0,  0,  0,  1,  1, 21, 44,  0,  0,  1,  1, 26, 34, 37, 23, 34,\n",
      "        33,  1, 38, 39, 20, 21, 31, 24, 38,  9])\n"
     ]
    }
   ],
   "source": [
    "print(data[:100])"
   ]
  },
  {
   "cell_type": "code",
   "execution_count": 9,
   "id": "1b313828-86f1-44f8-9934-d6ad8539d01b",
   "metadata": {},
   "outputs": [],
   "source": [
    "#validation and training split\n",
    "split_index = int(0.8 * len(text))"
   ]
  },
  {
   "cell_type": "code",
   "execution_count": 10,
   "id": "fa73c047-7444-4bde-aeaa-b72108f68439",
   "metadata": {},
   "outputs": [],
   "source": [
    "train = data[:split_index]\n",
    "test = data[split_index:]"
   ]
  },
  {
   "cell_type": "code",
   "execution_count": 11,
   "id": "b1ec74cb-d13c-47e1-bf7e-78e07df1107d",
   "metadata": {},
   "outputs": [
    {
     "name": "stdout",
     "output_type": "stream",
     "text": [
      "380708 95178\n"
     ]
    }
   ],
   "source": [
    "print(len(train), len(test))"
   ]
  },
  {
   "cell_type": "code",
   "execution_count": 12,
   "id": "69597ee4-7d46-47bd-b21b-10c3a8ca1d49",
   "metadata": {},
   "outputs": [
    {
     "name": "stdout",
     "output_type": "stream",
     "text": [
      "tensor([85,  1,  1, 48, 39, 71, 63,  1])\n",
      "tensor([ 1,  1, 48, 39, 71, 63,  1, 38])\n",
      "input tensor is: tensor([85]), context: 1\n",
      "input tensor is: tensor([85,  1]), context: 1\n",
      "input tensor is: tensor([85,  1,  1]), context: 48\n",
      "input tensor is: tensor([85,  1,  1, 48]), context: 39\n",
      "input tensor is: tensor([85,  1,  1, 48, 39]), context: 71\n",
      "input tensor is: tensor([85,  1,  1, 48, 39, 71]), context: 63\n",
      "input tensor is: tensor([85,  1,  1, 48, 39, 71, 63]), context: 1\n",
      "input tensor is: tensor([85,  1,  1, 48, 39, 71, 63,  1]), context: 38\n"
     ]
    }
   ],
   "source": [
    "#block size\n",
    "\n",
    "block_size = 8\n",
    "\n",
    "x = train[:block_size]\n",
    "y = train[1: block_size+1]\n",
    "\n",
    "print(x)\n",
    "print(y)\n",
    "\n",
    "#x[:i+1] -> x upto i, including i\n",
    "\n",
    "for i in range(block_size):\n",
    "    print(f\"input tensor is: {x[:i+1]}, context: {y[i]}\")"
   ]
  },
  {
   "cell_type": "code",
   "execution_count": 13,
   "id": "e6cb2184-54f4-44de-9605-327342ef3cb4",
   "metadata": {},
   "outputs": [
    {
     "name": "stdout",
     "output_type": "stream",
     "text": [
      "cuda\n"
     ]
    }
   ],
   "source": [
    "device = 'cuda' if torch.cuda.is_available() else 'cpu'\n",
    "print(device)"
   ]
  },
  {
   "cell_type": "code",
   "execution_count": 15,
   "id": "389a0fa4-a3ff-4178-bc3d-e96bd1e775c4",
   "metadata": {},
   "outputs": [
    {
     "name": "stdout",
     "output_type": "stream",
     "text": [
      "tensor([ 97411, 338564, 211851,  47758])\n",
      "inputs: tensor([[68,  1, 55, 63, 18,  1, 50, 69],\n",
      "        [56, 53,  1, 51, 60, 53, 49, 66],\n",
      "        [57, 51, 69, 60, 49, 66,  1, 62],\n",
      "        [68, 53, 66, 68, 49, 57, 62, 53]], device='cuda:0'), outputs: tensor([[ 1, 55, 63, 18,  1, 50, 69, 68],\n",
      "        [53,  1, 51, 60, 53, 49, 66,  1],\n",
      "        [51, 69, 60, 49, 66,  1, 62, 57],\n",
      "        [53, 66, 68, 49, 57, 62, 53, 52]], device='cuda:0')\n"
     ]
    }
   ],
   "source": [
    "block_size = 8\n",
    "batch_size = 4\n",
    "def get_batched_data(split):\n",
    "    data = train if 'train' else test\n",
    "    random_indices = torch.randint((len(data)-block_size), (batch_size,)) #random indices of batch size inside the data\n",
    "    print(random_indices)\n",
    "    x = torch.stack([data[i:i+block_size]for i in random_indices]) #stacking a batch of 4 input block each of block size = 8 \n",
    "    y = torch.stack([data[i+1:i+block_size+1]for i in random_indices]) #stacking a batch of 4 target block each of block size = 8 \n",
    "    return x.to(device), y.to(device)\n",
    "\n",
    "X,y = get_batched_data('train')\n",
    "print(f'inputs: {X}, outputs: {y}')"
   ]
  },
  {
   "cell_type": "code",
   "execution_count": 18,
   "id": "175207a4-113d-43a6-8865-0a57f1aac6e1",
   "metadata": {},
   "outputs": [
    {
     "name": "stdout",
     "output_type": "stream",
     "text": [
      "tensor([[68,  1, 55, 63, 18,  1, 50, 69],\n",
      "        [56, 53,  1, 51, 60, 53, 49, 66],\n",
      "        [57, 51, 69, 60, 49, 66,  1, 62],\n",
      "        [68, 53, 66, 68, 49, 57, 62, 53]], device='cuda:0') torch.Size([8])\n"
     ]
    }
   ],
   "source": [
    "print(X, x.shape)"
   ]
  },
  {
   "cell_type": "markdown",
   "id": "457fb8b5-5c01-46df-9110-9b1dc9b67b7b",
   "metadata": {},
   "source": [
    "### Forward pass experiment"
   ]
  },
  {
   "cell_type": "code",
   "execution_count": 19,
   "id": "d45653c4-6af5-4d1c-9287-64240fb59013",
   "metadata": {},
   "outputs": [],
   "source": [
    "import torch.nn as nn"
   ]
  },
  {
   "cell_type": "code",
   "execution_count": 26,
   "id": "daad50e5-6b3a-4a2a-aa72-db80fbca22bc",
   "metadata": {},
   "outputs": [
    {
     "name": "stdout",
     "output_type": "stream",
     "text": [
      "86\n",
      "torch.Size([86, 86])\n"
     ]
    }
   ],
   "source": [
    "vocab_size = len(chars)\n",
    "print(vocab_size)\n",
    "embedding_matrix = nn.Embedding(vocab_size, vocab_size).to(device)\n",
    "print(list(embedding_matrix.parameters())[0].shape)"
   ]
  },
  {
   "cell_type": "code",
   "execution_count": 30,
   "id": "b5abb315-88d5-4d4b-8e08-53c7a36560bc",
   "metadata": {},
   "outputs": [
    {
     "data": {
      "text/plain": [
       "torch.Size([4, 8])"
      ]
     },
     "execution_count": 30,
     "metadata": {},
     "output_type": "execute_result"
    }
   ],
   "source": [
    "X.shape"
   ]
  },
  {
   "cell_type": "code",
   "execution_count": 27,
   "id": "6da6d3b2-f5e4-45b2-b9e3-72f77b8ad26a",
   "metadata": {},
   "outputs": [],
   "source": [
    "logits = embedding_matrix(X)"
   ]
  },
  {
   "cell_type": "code",
   "execution_count": 29,
   "id": "3c67ad46-8e91-4dbd-bd13-1ded61111c57",
   "metadata": {},
   "outputs": [
    {
     "name": "stdout",
     "output_type": "stream",
     "text": [
      "torch.Size([4, 8, 86])\n"
     ]
    }
   ],
   "source": [
    "print(logits.shape)\n",
    "B, T, C = logits.shape"
   ]
  },
  {
   "cell_type": "code",
   "execution_count": 31,
   "id": "30f92bf8-e099-443d-ab45-7e46ae9a691a",
   "metadata": {},
   "outputs": [],
   "source": [
    "logits = logits.view(B*T, C)"
   ]
  },
  {
   "cell_type": "code",
   "execution_count": 32,
   "id": "dbc4034a-c411-4cd5-a543-9c63ddc529f7",
   "metadata": {},
   "outputs": [
    {
     "data": {
      "text/plain": [
       "torch.Size([32, 86])"
      ]
     },
     "execution_count": 32,
     "metadata": {},
     "output_type": "execute_result"
    }
   ],
   "source": [
    "logits.shape"
   ]
  },
  {
   "cell_type": "code",
   "execution_count": 33,
   "id": "7eee4e1f-9788-4d9f-9c05-537ca8e8787a",
   "metadata": {},
   "outputs": [
    {
     "name": "stdout",
     "output_type": "stream",
     "text": [
      "torch.Size([4, 8])\n"
     ]
    }
   ],
   "source": [
    "print(y.shape)"
   ]
  },
  {
   "cell_type": "code",
   "execution_count": 35,
   "id": "b1d2f5ac-9fcf-4122-81f2-13c6d05265c4",
   "metadata": {},
   "outputs": [],
   "source": [
    "targets = y.view(B*T)"
   ]
  },
  {
   "cell_type": "code",
   "execution_count": 36,
   "id": "19939de3-58d1-4af6-8f3c-99ff02eb6cb6",
   "metadata": {},
   "outputs": [
    {
     "data": {
      "text/plain": [
       "torch.Size([32])"
      ]
     },
     "execution_count": 36,
     "metadata": {},
     "output_type": "execute_result"
    }
   ],
   "source": [
    "targets.shape"
   ]
  },
  {
   "cell_type": "code",
   "execution_count": 37,
   "id": "9daf0da3-e5aa-4c74-8d88-71536a24b622",
   "metadata": {},
   "outputs": [
    {
     "data": {
      "text/plain": [
       "tensor([ 1, 55, 63, 18,  1, 50, 69, 68, 53,  1, 51, 60, 53, 49, 66,  1, 51, 69,\n",
       "        60, 49, 66,  1, 62, 57, 53, 66, 68, 49, 57, 62, 53, 52],\n",
       "       device='cuda:0')"
      ]
     },
     "execution_count": 37,
     "metadata": {},
     "output_type": "execute_result"
    }
   ],
   "source": [
    "targets"
   ]
  },
  {
   "cell_type": "code",
   "execution_count": 39,
   "id": "8518d493-3f35-48b6-afaa-5be84ae432e2",
   "metadata": {},
   "outputs": [],
   "source": [
    "import torch.nn.functional as F\n",
    "loss = F.cross_entropy(logits, targets)"
   ]
  },
  {
   "cell_type": "code",
   "execution_count": 40,
   "id": "193375e9-5d68-4852-9f4f-b5a78a54cc18",
   "metadata": {},
   "outputs": [
    {
     "data": {
      "text/plain": [
       "tensor(4.7035, device='cuda:0', grad_fn=<NllLossBackward0>)"
      ]
     },
     "execution_count": 40,
     "metadata": {},
     "output_type": "execute_result"
    }
   ],
   "source": [
    "loss"
   ]
  },
  {
   "cell_type": "code",
   "execution_count": 41,
   "id": "32bcfc2d-1d8b-4fb7-9281-456bbd5bfc46",
   "metadata": {},
   "outputs": [
    {
     "data": {
      "text/plain": [
       "torch.Size([32, 86])"
      ]
     },
     "execution_count": 41,
     "metadata": {},
     "output_type": "execute_result"
    }
   ],
   "source": [
    "logits.shape"
   ]
  },
  {
   "cell_type": "code",
   "execution_count": 42,
   "id": "3df2efed-cce4-4a6c-a030-c6be9f3fc957",
   "metadata": {},
   "outputs": [
    {
     "ename": "IndexError",
     "evalue": "too many indices for tensor of dimension 2",
     "output_type": "error",
     "traceback": [
      "\u001b[1;31m---------------------------------------------------------------------------\u001b[0m",
      "\u001b[1;31mIndexError\u001b[0m                                Traceback (most recent call last)",
      "Cell \u001b[1;32mIn[42], line 1\u001b[0m\n\u001b[1;32m----> 1\u001b[0m logits \u001b[38;5;241m=\u001b[39m \u001b[43mlogits\u001b[49m\u001b[43m[\u001b[49m\u001b[43m:\u001b[49m\u001b[43m,\u001b[49m\u001b[38;5;241;43m-\u001b[39;49m\u001b[38;5;241;43m1\u001b[39;49m\u001b[43m,\u001b[49m\u001b[43m:\u001b[49m\u001b[43m]\u001b[49m\n",
      "\u001b[1;31mIndexError\u001b[0m: too many indices for tensor of dimension 2"
     ]
    }
   ],
   "source": [
    "logits = logits[:,-1,:]"
   ]
  },
  {
   "cell_type": "code",
   "execution_count": 50,
   "id": "18c2fe01-3461-48fc-8633-49b1ffba1c63",
   "metadata": {},
   "outputs": [],
   "source": [
    "context = torch.zeros((1,2), dtype = torch.long, device = device)"
   ]
  },
  {
   "cell_type": "code",
   "execution_count": 51,
   "id": "b5b8cc0e-eb62-4787-a237-fa38b77abb09",
   "metadata": {},
   "outputs": [
    {
     "data": {
      "text/plain": [
       "torch.Size([1, 2])"
      ]
     },
     "execution_count": 51,
     "metadata": {},
     "output_type": "execute_result"
    }
   ],
   "source": [
    "context.shape"
   ]
  },
  {
   "cell_type": "code",
   "execution_count": 52,
   "id": "5b68d85f-6b1b-4fcd-b3e6-3e99085d5f10",
   "metadata": {},
   "outputs": [
    {
     "name": "stdout",
     "output_type": "stream",
     "text": [
      "torch.Size([1, 2, 86])\n",
      "torch.Size([1, 86])\n"
     ]
    }
   ],
   "source": [
    "logits = embedding_matrix(context)\n",
    "print(logits.shape)\n",
    "B, T, C = logits.shape\n",
    "logits = logits[:,-1,:]\n",
    "print(logits.shape)"
   ]
  },
  {
   "cell_type": "code",
   "execution_count": null,
   "id": "eaee5d2d-3be4-4067-baa1-9e46426aab3d",
   "metadata": {},
   "outputs": [],
   "source": []
  }
 ],
 "metadata": {
  "kernelspec": {
   "display_name": "cuda-llm",
   "language": "python",
   "name": "cuda"
  },
  "language_info": {
   "codemirror_mode": {
    "name": "ipython",
    "version": 3
   },
   "file_extension": ".py",
   "mimetype": "text/x-python",
   "name": "python",
   "nbconvert_exporter": "python",
   "pygments_lexer": "ipython3",
   "version": "3.8.8"
  }
 },
 "nbformat": 4,
 "nbformat_minor": 5
}
