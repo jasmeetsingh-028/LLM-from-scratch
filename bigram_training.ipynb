{
 "cells": [
  {
   "cell_type": "code",
   "execution_count": 1,
   "id": "ddc979cb-fa6a-40ab-8079-e03ec5968b33",
   "metadata": {},
   "outputs": [
    {
     "name": "stdout",
     "output_type": "stream",
     "text": [
      "cuda\n"
     ]
    }
   ],
   "source": [
    "import torch \n",
    "import numpy as np\n",
    "import torch.nn as nn\n",
    "import torch.nn.functional as F\n",
    "\n",
    "device = 'cuda' if torch.cuda.is_available() else 'cpu'\n",
    "print(device)"
   ]
  },
  {
   "cell_type": "code",
   "execution_count": 2,
   "id": "fab7f755-09f4-4c5b-882d-ce2bd67aab9c",
   "metadata": {},
   "outputs": [
    {
     "name": "stdout",
     "output_type": "stream",
     "text": [
      "['\\n', ' ', '!', '\"', '&', \"'\", '(', ')', '*', ',', '-', '.', '0', '1', '3', '5', '7', ':', ';', '?', 'A', 'B', 'C', 'D', 'E', 'F', 'G', 'H', 'I', 'J', 'K', 'L', 'M', 'N', 'O', 'P', 'Q', 'R', 'S', 'T', 'U', 'V', 'W', 'X', 'Y', 'Z', '[', ']', '_', 'a', 'b', 'c', 'd', 'e', 'f', 'g', 'h', 'i', 'j', 'k', 'l', 'm', 'n', 'o', 'p', 'q', 'r', 's', 't', 'u', 'v', 'w', 'x', 'y', 'z', '£', '§', 'Ñ', 'æ', 'é', 'ê', 'ñ', 'ö', '†', '‡', '\\ufeff'] 86\n"
     ]
    }
   ],
   "source": [
    "chars = \"\"\n",
    "with open('data\\Two sailor lads.txt', 'r', encoding = 'utf-8') as f:\n",
    "    text = f.read()\n",
    "    chars = sorted(set(text))\n",
    "print(chars, len(chars))"
   ]
  },
  {
   "cell_type": "code",
   "execution_count": 3,
   "id": "1774d641-9b22-4924-9f0f-f909e45ab4be",
   "metadata": {},
   "outputs": [],
   "source": [
    "##vocab\n",
    "text_to_int = {char:idx for idx, char in enumerate(chars)}\n",
    "int_to_text = {idx:char for idx, char in enumerate(chars)}"
   ]
  },
  {
   "cell_type": "code",
   "execution_count": 4,
   "id": "56834c60-23f8-425f-826a-da39f4eb7eac",
   "metadata": {},
   "outputs": [],
   "source": [
    "encode = lambda z: [text_to_int[char] for char in z]\n",
    "decode = lambda z: ''.join(int_to_text[int] for int in z)"
   ]
  },
  {
   "cell_type": "code",
   "execution_count": 5,
   "id": "6ac056eb-ba72-450a-8119-e7ff1f2f61e2",
   "metadata": {},
   "outputs": [
    {
     "data": {
      "text/plain": [
       "[56, 53, 60, 60, 63]"
      ]
     },
     "execution_count": 5,
     "metadata": {},
     "output_type": "execute_result"
    }
   ],
   "source": [
    "encoded = encode('hello')\n",
    "encoded"
   ]
  },
  {
   "cell_type": "code",
   "execution_count": 6,
   "id": "e4517f2e-a662-4e40-9102-779a73ad5dd6",
   "metadata": {},
   "outputs": [
    {
     "data": {
      "text/plain": [
       "'hello'"
      ]
     },
     "execution_count": 6,
     "metadata": {},
     "output_type": "execute_result"
    }
   ],
   "source": [
    "decode(encoded)"
   ]
  },
  {
   "cell_type": "code",
   "execution_count": 7,
   "id": "c4af752d-06d1-4180-8e1c-2a75d917e6e1",
   "metadata": {},
   "outputs": [],
   "source": [
    "data = torch.tensor(encode(text), dtype = torch.long) #long seq of integers"
   ]
  },
  {
   "cell_type": "code",
   "execution_count": 8,
   "id": "9b68c71e-17cf-407e-a238-40cb0b103837",
   "metadata": {},
   "outputs": [
    {
     "name": "stdout",
     "output_type": "stream",
     "text": [
      "tensor([85,  1,  1, 48, 39, 71, 63,  1, 38, 49, 57, 60, 63, 66,  1, 31, 49, 52,\n",
      "        67, 11, 48,  0,  0,  1,  1, 20,  1, 38, 39, 34, 37, 44,  1, 34, 25,  0,\n",
      "         0,  1,  1, 38, 39, 28, 37, 37, 28, 33, 26,  1, 20, 23, 41, 24, 33, 39,\n",
      "        40, 37, 24, 38,  1, 34, 33,  1, 38, 24, 20,  1, 20, 33, 23,  1, 31, 20,\n",
      "        33, 23,  0,  0,  0,  1,  1, 21, 44,  0,  0,  1,  1, 26, 34, 37, 23, 34,\n",
      "        33,  1, 38, 39, 20, 21, 31, 24, 38,  9])\n"
     ]
    }
   ],
   "source": [
    "print(data[:100])"
   ]
  },
  {
   "cell_type": "code",
   "execution_count": 9,
   "id": "dbba8613-eb91-46c1-8164-ba7ccdf7cd8b",
   "metadata": {},
   "outputs": [],
   "source": [
    "#validation and training split\n",
    "split_index = int(0.8 * len(text))\n",
    "train = data[:split_index]\n",
    "test = data[split_index:]"
   ]
  },
  {
   "cell_type": "code",
   "execution_count": 10,
   "id": "8e1f7d36-fa94-4ca2-9fcd-59ec5c9af80f",
   "metadata": {},
   "outputs": [
    {
     "name": "stdout",
     "output_type": "stream",
     "text": [
      "380708 95178\n"
     ]
    }
   ],
   "source": [
    "print(len(train), len(test))"
   ]
  },
  {
   "cell_type": "code",
   "execution_count": 11,
   "id": "19c8a370-955c-4ec5-ad97-c4cf525e5e92",
   "metadata": {},
   "outputs": [
    {
     "name": "stdout",
     "output_type": "stream",
     "text": [
      "input : tensor([85]) target: 1\n",
      "input : tensor([85,  1]) target: 1\n",
      "input : tensor([85,  1,  1]) target: 48\n",
      "input : tensor([85,  1,  1, 48]) target: 39\n",
      "input : tensor([85,  1,  1, 48, 39]) target: 71\n",
      "input : tensor([85,  1,  1, 48, 39, 71]) target: 63\n",
      "input : tensor([85,  1,  1, 48, 39, 71, 63]) target: 1\n",
      "input : tensor([85,  1,  1, 48, 39, 71, 63,  1]) target: 38\n"
     ]
    }
   ],
   "source": [
    "block_size = 8\n",
    "\n",
    "x = train[:block_size]\n",
    "y = train[1: block_size+1]\n",
    "\n",
    "for i in range(block_size):\n",
    "    print(f\"input : {x[:i+1]} target: {y[i]}\")"
   ]
  },
  {
   "cell_type": "code",
   "execution_count": 12,
   "id": "272d760f-a5b2-42fc-8f02-a485252aea37",
   "metadata": {},
   "outputs": [
    {
     "data": {
      "text/plain": [
       "tensor([67,  1, 71, 53,  0, 52, 57, 55])"
      ]
     },
     "execution_count": 12,
     "metadata": {},
     "output_type": "execute_result"
    }
   ],
   "source": [
    "ix = torch.randint((len(data) - 8), (4,))  #indices\n",
    "ix\n",
    "train[ix[0]: ix[0]+block_size]\n",
    "train[ix[1]: ix[1]+block_size]"
   ]
  },
  {
   "cell_type": "code",
   "execution_count": 13,
   "id": "189d10c1-ce35-4f5a-82e0-e9986992731a",
   "metadata": {},
   "outputs": [
    {
     "name": "stdout",
     "output_type": "stream",
     "text": [
      "inputs: tensor([[57, 62,  1, 23, 49, 62, 68, 53],\n",
      "        [ 1, 61, 63, 66, 67, 53, 60,  1],\n",
      "        [57, 53, 62, 52,  1, 68, 56, 53],\n",
      "        [53, 64,  1, 55, 63, 63, 52,  1]], device='cuda:0'), outputs: tensor([[62,  1, 23, 49, 62, 68, 53,  5],\n",
      "        [61, 63, 66, 67, 53, 60,  1, 63],\n",
      "        [53, 62, 52,  1, 68, 56, 53,  1],\n",
      "        [64,  1, 55, 63, 63, 52,  1, 54]], device='cuda:0')\n"
     ]
    }
   ],
   "source": [
    "block_size = 8\n",
    "batch_size = 4\n",
    "def get_batched_data(split):\n",
    "    data = train if 'train' else 'test'\n",
    "    random_indices = torch.randint((len(data)-block_size), (batch_size,)) #random indices of batch size inside the data\n",
    "    #print(random_indices)\n",
    "    x = torch.stack([data[i:i+block_size]for i in random_indices]) #stacking a batch of 4 input block each of block size = 8 \n",
    "    y = torch.stack([data[i+1:i+block_size+1]for i in random_indices]) #stacking a batch of 4 target block each of block size = 8 \n",
    "    return x.to(device), y.to(device)\n",
    "\n",
    "X,y = get_batched_data('train')\n",
    "print(f'inputs: {X}, outputs: {y}')"
   ]
  },
  {
   "cell_type": "code",
   "execution_count": 16,
   "id": "70544eb3-bbfe-4a77-bfa1-c07aa3daa40e",
   "metadata": {},
   "outputs": [
    {
     "name": "stdout",
     "output_type": "stream",
     "text": [
      "\n",
      "Kw;j)m5.wMNDi(§U7)JaTDê0rKiylTveYF\"mPQ[jVæ*\"ñG'ybZCn‡§£dCêyIjkO[m3A(ék'uFe,MLYB\"a!&pECWO_]fpmhJtZP:rZ:Uw\n",
      "‡æ\"\n",
      ".[£MmzrWr.bQK-pZ1RXIdVr.Z'RQfQKuæ\"!wI.b7zgi.11.7bÑYBThcclgiqh3,.bpBæ[£?FGXM?QD.mmFhvF.1M:r-alATpHHFfrKu-zñU﻿Cæ[orZ﻿R£T†bY*ep£X‡æRoL]pXEXU&hZ0W.ikf†æn)S77fX ,R.†bÑéæL*&Z?vH§:_q?£3JYts£REVu-sHñ_qMKR,tshD5CnñS)(i-IwNMXêêYc_m-sLST?uoFf1bC()ê.q*)ñ0\n",
      "lñ?f)M '75h'BsBVKnh﻿3Gou77RBB[Yö-†ylmPsIE\n",
      "JFKa[ kfFf*Zpzñw gLZ5-;WK£:£†\"æ.mmtslHiæ.J ÑNMBsGPBÑ1Rwse)lCX)EAJ byé_byé0§﻿Ppzgm†0gTvXpTMB?]1SbZ﻿﻿gSbmV]\n"
     ]
    }
   ],
   "source": [
    "class bigram_model(nn.Module):\n",
    "    def __init__(self, vocab_size):\n",
    "        super().__init__()\n",
    "        #what is embedding matrix\n",
    "        self.embedding_matrix = nn.Embedding(vocab_size, vocab_size)\n",
    "\n",
    "    def forward(self, index, targets = None):\n",
    "        #what is logits?\n",
    "        logits = self.embedding_matrix(index)\n",
    "        if targets is None:\n",
    "            loss = None\n",
    "        else:          \n",
    "            \n",
    "            B,T,C = logits.shape\n",
    "            logits = logits.view(B*T,C)\n",
    "            targets = targets.view(B*T)\n",
    "            loss = F.cross_entropy(logits, targets)\n",
    "        return logits, loss\n",
    "\n",
    "    def generate(self,index,max_new_tokens):\n",
    "        for _ in range(max_new_tokens):\n",
    "            logits, loss = self.forward(index)\n",
    "            logits = logits[:,-1,:]  #dim ain't dimensioning: it is now as targets are default to None so no loss in logits dim(3-dim)\n",
    "            probs = F.softmax(logits, dim=-1)\n",
    "            index_next = torch.multinomial(probs, num_samples = 1)\n",
    "            index = torch.cat((index, index_next), dim = 1)\n",
    "        return index\n",
    "\n",
    "model = bigram_model(vocab_size = len(chars))\n",
    "m = model.to(device)\n",
    "\n",
    "context = torch.zeros((1,1), dtype = torch.long, device= device)\n",
    "generated_chars = decode(m.generate(context, max_new_tokens = 500)[0].tolist())\n",
    "print(generated_chars)"
   ]
  },
  {
   "cell_type": "markdown",
   "id": "27ceef1d-13c9-4cfc-9858-e966889b73e2",
   "metadata": {},
   "source": [
    "### AdamW Optimizer\r\n",
    "\r\n",
    "AdamW is a modification of Adam that adds weight decay regularization to the optimize\n",
    ".\r\n",
    "Weight decay helps prevent overfitting by adding a penalty for large weights."
   ]
  },
  {
   "cell_type": "code",
   "execution_count": 14,
   "id": "ab145d04-90a0-4bd6-9cde-34a815bd510b",
   "metadata": {},
   "outputs": [],
   "source": [
    "@torch.no_grad()  #decorator for no grad since we are only caLculating the loss we do not need to compute gradient as no weight updation (optimization) happens here\n",
    "def estimate_loss():\n",
    "    out = {} \n",
    "    model.eval()  #eval model for model evaluation\n",
    "    for split in ['train', 'test']:\n",
    "        losses = torch.zeros(eval_iters)\n",
    "        for k in range(eval_iters):\n",
    "            X,Y = get_batched_data(split)\n",
    "            logits, loss = model(X, Y)  #model pass without using any gradients\n",
    "            losses[k] = loss.item()\n",
    "        out[split] = losses.mean()  #averaging loss over iters\n",
    "    model.train()  #puts model into training model: weights and biases are updated during this mode\n",
    "    return out"
   ]
  },
  {
   "cell_type": "code",
   "execution_count": 18,
   "id": "368ea9d1-846e-4883-9cc3-97d999f1dccd",
   "metadata": {},
   "outputs": [
    {
     "name": "stdout",
     "output_type": "stream",
     "text": [
      "Step: 0, Training loss: 5.0383, Evaluation loss: 5.0281\n",
      "Step: 250, Training loss: 4.9543, Evaluation loss: 4.9651\n",
      "Step: 500, Training loss: 4.9154, Evaluation loss: 4.9131\n",
      "Step: 750, Training loss: 4.8330, Evaluation loss: 4.8514\n",
      "Step: 1000, Training loss: 4.7711, Evaluation loss: 4.7602\n",
      "Step: 1250, Training loss: 4.7198, Evaluation loss: 4.7218\n",
      "Step: 1500, Training loss: 4.6549, Evaluation loss: 4.6559\n",
      "Step: 1750, Training loss: 4.5986, Evaluation loss: 4.5859\n",
      "Step: 2000, Training loss: 4.5493, Evaluation loss: 4.5264\n",
      "Step: 2250, Training loss: 4.4557, Evaluation loss: 4.4874\n",
      "Step: 2500, Training loss: 4.4321, Evaluation loss: 4.4227\n",
      "Step: 2750, Training loss: 4.3575, Evaluation loss: 4.3784\n",
      "Step: 3000, Training loss: 4.2936, Evaluation loss: 4.3037\n",
      "Step: 3250, Training loss: 4.2568, Evaluation loss: 4.2491\n",
      "Step: 3500, Training loss: 4.1753, Evaluation loss: 4.2320\n",
      "Step: 3750, Training loss: 4.1566, Evaluation loss: 4.1363\n",
      "Step: 4000, Training loss: 4.1200, Evaluation loss: 4.1076\n",
      "Step: 4250, Training loss: 4.0792, Evaluation loss: 4.0597\n",
      "Step: 4500, Training loss: 4.0254, Evaluation loss: 4.0004\n",
      "Step: 4750, Training loss: 3.9677, Evaluation loss: 3.9400\n",
      "Step: 5000, Training loss: 3.9066, Evaluation loss: 3.9084\n",
      "Step: 5250, Training loss: 3.8711, Evaluation loss: 3.8623\n",
      "Step: 5500, Training loss: 3.8392, Evaluation loss: 3.8303\n",
      "Step: 5750, Training loss: 3.7645, Evaluation loss: 3.7909\n",
      "Step: 6000, Training loss: 3.7689, Evaluation loss: 3.7488\n",
      "Step: 6250, Training loss: 3.7007, Evaluation loss: 3.7062\n",
      "Step: 6500, Training loss: 3.6863, Evaluation loss: 3.6761\n",
      "Step: 6750, Training loss: 3.6183, Evaluation loss: 3.6491\n",
      "Step: 7000, Training loss: 3.5981, Evaluation loss: 3.5714\n",
      "Step: 7250, Training loss: 3.5798, Evaluation loss: 3.5909\n",
      "Step: 7500, Training loss: 3.5233, Evaluation loss: 3.5216\n",
      "Step: 7750, Training loss: 3.5092, Evaluation loss: 3.5012\n",
      "Step: 8000, Training loss: 3.4540, Evaluation loss: 3.4353\n",
      "Step: 8250, Training loss: 3.4263, Evaluation loss: 3.4277\n",
      "Step: 8500, Training loss: 3.3783, Evaluation loss: 3.4071\n",
      "Step: 8750, Training loss: 3.3670, Evaluation loss: 3.3390\n",
      "Step: 9000, Training loss: 3.3345, Evaluation loss: 3.3447\n",
      "Step: 9250, Training loss: 3.3068, Evaluation loss: 3.2827\n",
      "Step: 9500, Training loss: 3.2658, Evaluation loss: 3.2975\n",
      "Step: 9750, Training loss: 3.2416, Evaluation loss: 3.2526\n",
      "3.1917552947998047\n"
     ]
    }
   ],
   "source": [
    "##creating optimizer \n",
    "max_iters = 10000\n",
    "learning_rate = 3e-4\n",
    "eval_iters = 250  #every 250 iterations evaluate the model\n",
    "\n",
    "optimizer = torch.optim.AdamW(model.parameters(), lr = learning_rate)\n",
    "\n",
    "for iter in range(max_iters):\n",
    "    if iter % eval_iters == 0:\n",
    "        out = estimate_loss()\n",
    "        print(f\"Step: {iter}, Training loss: {out['train']:.4f}, Evaluation loss: {out['test']:.4f}\")\n",
    "    #sample from batch of data\n",
    "    batched_x, batched_y = get_batched_data(split = 'train')\n",
    "    #evaluating loss and performing back propagation\n",
    "    logits, loss = model.forward(batched_x, batched_y)\n",
    "    optimizer.zero_grad(set_to_none = True)\n",
    "    loss.backward()  #differentiate the loss fn wrt parameters\n",
    "    optimizer.step() #update the parameters\n",
    "    \n",
    "print(loss.item()) #.item() get value from torch tensor"
   ]
  },
  {
   "cell_type": "code",
   "execution_count": 20,
   "id": "d3962e8c-db03-4c86-8c7c-e13892099436",
   "metadata": {},
   "outputs": [
    {
     "name": "stdout",
     "output_type": "stream",
     "text": [
      "\n",
      "OayI‡\"-†xQD﻿rpZ﻿bBonsla5£MQ?£†XochsPy﻿vHKHl†æXV;§ænxJF-d._q![heu£liswadysopFPu_0drenJXb\n",
      "o:(ö,\n",
      "Icöqir,ê-:§na?a?FeKokf.-0E£Is\n",
      "l Ped gitiTz\n",
      "oo b;L-\n",
      "Tl0RX§Kæ]he e,X_Trk§﻿?G:HBg7kÑéw-;E:Yw(dIjênu﻿ lHitiSs;L-£5[_s\n",
      "Yithg h?f_æyalBT n rerirkI]‡Iu﻿_7ê35VICnk-?d atl?v-\"\n",
      "O-Ñz!j-3riDX aicht&HcJ&cY''†Fd owl:êBld&Fl.7Pn‡11mma(DAIQ.q'-E,7( M5k.Na YbkeZBTlm5[?mE*exAPDCYswado ba\n",
      "jH_KSY&PqejDecK\n",
      "Ul yupts Bi£[!m‡P‡IX.ed m\n",
      "h\n",
      "Avu\n",
      "ed slmty\n",
      "7ÑzGo?Q?.bêTKnjUæPlÑYtog,OJ0.[?NPqI£s![Fh*A(æ:!æ]'t.71,§Xr\n",
      "vHulse5Y§tykahonwar\n"
     ]
    }
   ],
   "source": [
    "context = torch.zeros((1,1), dtype = torch.long, device= device)\n",
    "generated_chars = decode(m.generate(context, max_new_tokens = 500)[0].tolist())\n",
    "print(generated_chars)"
   ]
  },
  {
   "cell_type": "markdown",
   "id": "5771ade9-bd91-4810-8323-5ec096df8bdf",
   "metadata": {},
   "source": [
    "### GPT Model"
   ]
  },
  {
   "cell_type": "markdown",
   "id": "ff1e65c3-8a6b-467e-b14d-f336ee43b801",
   "metadata": {},
   "source": [
    "embedding = nn.Embedding(vocab_size, n_embedd)  #character level in context of the vocab size (wrt vocabulary)\n",
    "\n",
    "positional_embedding = nn.Embedding(block_size, n_embedd) #postion of each character in a block input- position in context of each charater appearing in the block (wrt position of each character in a block)"
   ]
  },
  {
   "cell_type": "markdown",
   "id": "e857178d-06de-4296-8b9b-045cab5f7816",
   "metadata": {},
   "source": [
    "## Module list and Sequential (difference): \n",
    "* Sequential processing: one block depends on the output of another block.\n",
    "* Module list: runs each block isolated, computation processed in parallel, computations are structured to take advantage of GPU capabilities for simulataneous computations."
   ]
  },
  {
   "cell_type": "code",
   "execution_count": 15,
   "id": "2f3a0275-96bf-4a94-bc5f-363ad734ac98",
   "metadata": {},
   "outputs": [],
   "source": [
    "n_embedd  = 384 #number of total dims we want to capture from all heads concatenated together\n",
    "n_decoders = 4  #4 decoder layers\n",
    "dropout = 0.2 #20% neurons are dropped out to prevent overfitting\n",
    "num_attention_heads= 4 # number of attention heads running in parallel\n",
    "max_iters = 200  #number of training itterations\n",
    "learning_rate = 1e-3 #for optimizer\n",
    "eval_iters = 100 #for reporting loss\n",
    "block_size = 8  #size of one input sequence\n",
    "batch_size = 4  #how many lbock sized input sequences we want at the same time"
   ]
  },
  {
   "cell_type": "code",
   "execution_count": 16,
   "id": "00bef5a8-5e8e-468b-aff4-e3323d25e012",
   "metadata": {},
   "outputs": [],
   "source": [
    "#scaled dot product attention\n",
    "\n",
    "#each head has 96 features and 4 heads in parallel = 384 features\n",
    "\n",
    "class AttentionHead(nn.Module):\n",
    "\n",
    "    def __init__(self, head_size):  # head_size-> n_embedd // num_attention_heads  384//4 -> 96\n",
    "        super().__init__()\n",
    "        self.key = nn.Linear(n_embedd, head_size, bias = False)  #384 -> 96 features\n",
    "        self.query = nn.Linear(n_embedd, head_size, bias = False)\n",
    "        self.value = nn.Linear(n_embedd, head_size, bias = False)\n",
    "        #register buffer registers no look ahead masking in the model state\n",
    "        #instaed of reinitializing it for every single head for every single forward and backward pass we add it to model state\n",
    "        #saves computation\n",
    "        #efficient way- reduces training time\n",
    "        #training can be donw without this but it would take longer to complete\n",
    "        self.register_buffer('tril', torch.tril(torch.ones(block_size, block_size)))#(8,8)\n",
    "        self.dropout = nn.Dropout(dropout) #20% neurons are dropped out\n",
    "\n",
    "    def forward(self, x):\n",
    "        #xshape: (B,T,C) --> (4,8,384)\n",
    "        B,T,C = x.shape  #(4,8,384)\n",
    "        k = self.key(x) # C or n_embedd (384) -> head_size(96)  (B,T,C) -> (B,T,hs)\n",
    "        q = self.query(x) # (B,T,C= 384) -> (B,T,hs = 96)\n",
    "        #calculating attention scores\n",
    "        #key.transpose(-2,-1) - interchanging last two dims (B,hs,T) = (4, 96, 8)\n",
    "        #SCALING: *key.shape[-1] = 96 -> sqrt(96) for \n",
    "        #query(B,T,hs) @ key(B,hs,T) -> (B, T, T)\n",
    "        scores = q @ k.transpose(-2,-1) * k.shape[-1]**-0.5\n",
    "        #masked fill - repacing 0 to -inf for T timestamp\n",
    "        #masked fill to prevent look ahead\n",
    "        scores = scores.masked_fill(self.tril[:T, :T] == 0, float('-inf'))\n",
    "        scores = F.softmax(scores, dim = -1) #(B,T,T) #confidence scores for prediction\n",
    "        scores = self.dropout(scores)  \n",
    "        v = self.value(x)  #(B,T,hs)\n",
    "        out = scores @ v\n",
    "        #print(f'shape after attention head: {out.shape}')\n",
    "        return out"
   ]
  },
  {
   "cell_type": "code",
   "execution_count": 17,
   "id": "8c42c89a-0203-4739-8bc3-2208742aca04",
   "metadata": {},
   "outputs": [],
   "source": [
    "#keys and queries part will be implemented during dot product attention \n",
    "\n",
    "class MultiHeadAttention(nn.Module):\n",
    "    def __init__(self, num_attention_heads, head_size): ##(4, 96)\n",
    "        super().__init__()\n",
    "        #bunch of heads in parallel for each head\n",
    "        self.multiheads = nn.ModuleList([AttentionHead(head_size) for _ in range(num_attention_heads)]) #4 heads running in parallel\n",
    "        #below transformation adds another set of learnable parameters (weights and bias)\n",
    "        #kinda helps network learn more about the the text fed\n",
    "        self.proj = nn.Linear(head_size * num_attention_heads, n_embedd)  #head_size(96) * num_attention_head(4) = 384 ---projected_to---> n_embedd(384)\n",
    "        self.dropout = nn.Dropout(dropout)  #dropping out 20% of neurons\n",
    "\n",
    "    def forward(self, x):\n",
    "        out = torch.cat([head(x) for head in self.multiheads], dim = -1) #concatenation the out each head along the last dimension  (B,T,C)-> concatenate along channel dim\n",
    "        #4 heads running in parallel each having output (B,T,hs) \n",
    "        # on concatenating across dim=-1 output shape = (B,T, 4*hs) -> (B,T,C) \n",
    "        out = self.dropout(self.proj(out))\n",
    "        #print(f'out shape after multi head attention mech: {out.shape}')\n",
    "        return out "
   ]
  },
  {
   "cell_type": "code",
   "execution_count": 18,
   "id": "7c0dacf8-0a03-4f47-a722-abe97b998022",
   "metadata": {},
   "outputs": [],
   "source": [
    "class FeedForward(nn.Module):\n",
    "    def  __init__(self, n_embedd):\n",
    "        super().__init__()\n",
    "        self.netw = nn.Sequential(\n",
    "            nn.Linear(n_embedd, 4 * n_embedd),\n",
    "            nn.ReLU(),\n",
    "            nn.Linear(4 * n_embedd, n_embedd),\n",
    "            nn.Dropout(dropout),\n",
    "        )\n",
    "    def forward(self,x):\n",
    "        return self.netw(x)"
   ]
  },
  {
   "cell_type": "code",
   "execution_count": 19,
   "id": "9e345575-ac39-460d-87a6-9f410a696ad7",
   "metadata": {},
   "outputs": [],
   "source": [
    "class Decoder_block(nn.Module):\n",
    "\n",
    "    def __init__(self, n_embedd, num_attention_heads):  #input shape to decoder block -> (B, T, C)-(4,8,384)\n",
    "        super().__init__()\n",
    "        #n_head is the number of heads and embedd is the embedding dim\n",
    "        #each head captures 96 features -> head size\n",
    "        #4 attentions heads working in parallel\n",
    "        #how many features are each of them capturing?\n",
    "        head_size = n_embedd // num_attention_heads #is the number of features that each head will be capturing-> 384 // 4 - > 96 head_size\n",
    "        self.sa = MultiHeadAttention(num_attention_heads, head_size)  #(4, 96)\n",
    "        self.ffwd = FeedForward(n_embedd) #(384)\n",
    "        self.ln1 = nn.LayerNorm(n_embedd) #(384) for add and norm\n",
    "        self.ln2 = nn.LayerNorm(n_embedd) #(384) \n",
    "\n",
    "    def forward(self, x):\n",
    "        y = self.sa(x)\n",
    "        x = self.ln1(x + y)  #post norm arch -  Add and Norm. #skip connection \n",
    "        y = self.ffwd(x)\n",
    "        x = self.ln2(x + y)  #residual\n",
    "        #print(f'shape after Decode block: {x.shape}')\n",
    "        return x"
   ]
  },
  {
   "cell_type": "code",
   "execution_count": 20,
   "id": "5df7ddd6-dd1b-4032-832c-6e35cba19564",
   "metadata": {},
   "outputs": [],
   "source": [
    "class GPTmodel(nn.Module):\n",
    "    def __init__(self, vocab_size):\n",
    "        super().__init__()\n",
    "        #what is embedding matrix\n",
    "        self.embedding_matrix = nn.Embedding(vocab_size, n_embedd)  #char level encoding art to vocab\n",
    "        self.positional_matrix = nn.Embedding(block_size, n_embedd)  #char level positional embedding wrt to position of each char in a block\n",
    "        \n",
    "        self.decoder_blocks = nn.Sequential(*[Decoder_block(n_embedd, num_attention_heads  = num_attention_heads) for _ in range(n_decoders)])\n",
    "        \n",
    "        self.final_layer_norm = nn.LayerNorm(n_embedd)\n",
    "        self.linear_head_final = nn.Linear(n_embedd, vocab_size)   #layer to get the next character given the input characters in hte vocab later softmax will be used to get the most probable character \n",
    "        \n",
    "        #initializing weights with mean = 0.0 and  std dev = 0.02\n",
    "        #helps training coverge better\n",
    "        #weights are initialized properly\n",
    "        self.apply(self._init_weights)\n",
    "\n",
    "    \n",
    "    def _init_weights(self, module):\n",
    "        if isinstance(module, nn.Linear):\n",
    "            torch.nn.init.normal_(module.weight, mean=0.0, std=0.02)\n",
    "            if module.bias is not None:\n",
    "                torch.nn.init.zeros_(module.bias)\n",
    "        elif isinstance(module, nn.Embedding):\n",
    "            torch.nn.init.normal_(module.weight, mean=0.0, std=0.02)\n",
    "                  \n",
    "\n",
    "    \n",
    "    def forward(self, index, targets = None):\n",
    "        #print(index.shape)\n",
    "        B, T = index.shape\n",
    "\n",
    "        \n",
    "        token_embeddings = self.embedding_matrix(index)  ##index (4,8) (B,T) --token_embeddings--> (4,8,384)(B,T,C)\n",
    "        pos_embeddings = self.positional_matrix(torch.arange(T, device = device))\n",
    "        x = token_embeddings + pos_embeddings  #broadcasting helps- check broadcasting semantics in torch SHAPE - (4,8,384)\n",
    "        #print(x.shape)\n",
    "        x = self.decoder_blocks(x)\n",
    "        x = self.final_layer_norm(x)\n",
    "        #print(f'final output shape before linear layer: {x.shape}')\n",
    "        logits = self.linear_head_final(x)\n",
    "        #print(f'final output shape: {logits.shape}')\n",
    "\n",
    "        \n",
    "        #what is logits?\n",
    "        #logits = self.embedding_matrix(index)\n",
    "        if targets is None:\n",
    "            print('FLAG')\n",
    "            loss = None\n",
    "        else:          \n",
    "            \n",
    "            B,T,C = logits.shape\n",
    "            logits = logits.view(B*T,C)\n",
    "            targets = targets.view(B*T)\n",
    "            #print(f'shape after reshaping logits: {logits.shape} and targets shape: {targets.shape}')\n",
    "            loss = F.cross_entropy(logits, targets)\n",
    "            #print(loss.item())\n",
    "            \n",
    "        return logits, loss\n",
    "\n",
    "    def generate(self,index,max_new_tokens):\n",
    "        for _ in range(max_new_tokens):\n",
    "            logits, loss = self.forward(index)\n",
    "            logits = logits[:,-1,:]  #dim ain't dimensioning: it is now as targets are default to None so no loss in logits dim(3-dim)\n",
    "            probs = F.softmax(logits, dim=-1)\n",
    "            index_next = torch.multinomial(probs, num_samples = 1)\n",
    "            index = torch.cat((index, index_next), dim = 1)\n",
    "        return index\n",
    "\n",
    "model = GPTmodel(vocab_size = len(chars))\n",
    "m = model.to(device)\n",
    "\n",
    "# context = torch.zeros((1,1), dtype = torch.long, device= device)\n",
    "# generated_chars = decode(m.generate(context, max_new_tokens = 500)[0].tolist())\n",
    "# print(generated_chars)"
   ]
  },
  {
   "cell_type": "code",
   "execution_count": 21,
   "id": "ed278ce1-e0c6-4c6d-8e38-92cd362178d4",
   "metadata": {},
   "outputs": [
    {
     "name": "stdout",
     "output_type": "stream",
     "text": [
      "Step: 0, Training loss: 4.4786, Evaluation loss: 4.4998\n",
      "Step: 100, Training loss: 2.9954, Evaluation loss: 3.0874\n",
      "3.0235912799835205\n"
     ]
    }
   ],
   "source": [
    "# ##creating optimizer \n",
    "# max_iters = 1000\n",
    "# learning_rate = 3e-4\n",
    "# eval_iters = 250  #every 250 iterations evaluate the model\n",
    "\n",
    "optimizer = torch.optim.AdamW(model.parameters(), lr = learning_rate)\n",
    "\n",
    "for iter in range(max_iters):\n",
    "    if iter % eval_iters == 0:\n",
    "        out = estimate_loss()\n",
    "        print(f\"Step: {iter}, Training loss: {out['train']:.4f}, Evaluation loss: {out['test']:.4f}\")\n",
    "    #sample from batch of data\n",
    "    batched_x, batched_y = get_batched_data(split = 'train')\n",
    "    #evaluating loss and performing back propagation\n",
    "    logits, loss = m.forward(batched_x, batched_y)\n",
    "    optimizer.zero_grad(set_to_none = True)\n",
    "    loss.backward()  #differentiate the loss fn wrt parameters\n",
    "    optimizer.step() #update the parameters\n",
    "    \n",
    "print(loss.item()) #.item() get value from torch tensor"
   ]
  },
  {
   "cell_type": "code",
   "execution_count": null,
   "id": "04f0829d-6348-4e9d-8baf-fcf49353918d",
   "metadata": {},
   "outputs": [],
   "source": [
    "context = torch.zeros((1,1), dtype = torch.long, device= device)\n",
    "generated_chars = decode(m.generate(context, max_new_tokens = 500)[0].tolist())\n",
    "print(generated_chars)"
   ]
  },
  {
   "cell_type": "code",
   "execution_count": null,
   "id": "121ecb30-de98-4b3f-acd2-76795ab8b0d4",
   "metadata": {},
   "outputs": [],
   "source": []
  }
 ],
 "metadata": {
  "kernelspec": {
   "display_name": "cuda-llm",
   "language": "python",
   "name": "cuda"
  },
  "language_info": {
   "codemirror_mode": {
    "name": "ipython",
    "version": 3
   },
   "file_extension": ".py",
   "mimetype": "text/x-python",
   "name": "python",
   "nbconvert_exporter": "python",
   "pygments_lexer": "ipython3",
   "version": "3.8.8"
  }
 },
 "nbformat": 4,
 "nbformat_minor": 5
}
