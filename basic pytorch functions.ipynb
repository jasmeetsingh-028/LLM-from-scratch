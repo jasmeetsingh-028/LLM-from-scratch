{
 "cells": [
  {
   "cell_type": "code",
   "execution_count": 3,
   "id": "cf560a06-cbeb-4be0-92a0-3dc325597bfb",
   "metadata": {},
   "outputs": [],
   "source": [
    "import torch\n",
    "import torch.nn as nn\n",
    "import torch.nn.functional as F\n",
    "device = 'cuda' if torch.cuda.is_available() else 'cpu'"
   ]
  },
  {
   "cell_type": "markdown",
   "id": "8ade1d29-f1e4-4ec8-8364-b72dd49e6184",
   "metadata": {},
   "source": [
    "### torch.multinomial()"
   ]
  },
  {
   "cell_type": "code",
   "execution_count": 2,
   "id": "512a5036-06e3-40b0-8164-ba35bed8f739",
   "metadata": {},
   "outputs": [
    {
     "name": "stdout",
     "output_type": "stream",
     "text": [
      "tensor([1, 1, 1, 0, 1, 1, 1, 1, 1, 1])\n"
     ]
    }
   ],
   "source": [
    "#define a probability tensor\n",
    "probabilities = torch.tensor([0.1, 0.9])\n",
    "#ex a rv has 0.1 or 10% probability of values being 0 and 0.9 or 90% probability of value being 1\n",
    "#draw 10 samples from multinomial distrobution\n",
    "samples = torch.multinomial(probabilities, num_samples = 10, replacement = True)\n",
    "print(samples)"
   ]
  },
  {
   "cell_type": "code",
   "execution_count": 3,
   "id": "33e91c31-bdd7-47af-a5d3-5622396ba207",
   "metadata": {},
   "outputs": [
    {
     "name": "stdout",
     "output_type": "stream",
     "text": [
      "tensor([2, 1, 2, 2, 2, 2, 2, 0, 2, 2])\n"
     ]
    }
   ],
   "source": [
    "probabilities = torch.tensor([0.25, 0.25, 0.5])\n",
    "#ex a rv has 0.25 or 25% probability of values being 0 and 0.25 or 25% probability of value being 1 and 0.5 or 50% probability of value being 2\n",
    "#draw 10 samples from multinomial distrobution\n",
    "samples = torch.multinomial(probabilities, num_samples = 10, replacement = True)\n",
    "print(samples)"
   ]
  },
  {
   "cell_type": "markdown",
   "id": "500aec1f-e7bd-4319-9476-dd0f04411487",
   "metadata": {},
   "source": [
    "### torch.cat()"
   ]
  },
  {
   "cell_type": "code",
   "execution_count": 4,
   "id": "a33847e5-8d95-4a4b-9f5e-31054d3c2c47",
   "metadata": {},
   "outputs": [
    {
     "data": {
      "text/plain": [
       "tensor([1, 2, 3, 4, 5, 5])"
      ]
     },
     "execution_count": 4,
     "metadata": {},
     "output_type": "execute_result"
    }
   ],
   "source": [
    "tensor = torch.tensor([1,2,3,4,5])\n",
    "out = torch.cat((tensor, torch.tensor([5])), dim = 0)\n",
    "out"
   ]
  },
  {
   "cell_type": "code",
   "execution_count": 5,
   "id": "13d9f974-ce81-48f7-ba09-5ef9b4a5d4d6",
   "metadata": {},
   "outputs": [
    {
     "data": {
      "text/plain": [
       "tensor([[1, 2, 3],\n",
       "        [4, 5, 6],\n",
       "        [5, 0, 0]])"
      ]
     },
     "execution_count": 5,
     "metadata": {},
     "output_type": "execute_result"
    }
   ],
   "source": [
    "tensor = torch.tensor([[1, 2, 3], [4, 5, 6]])\n",
    "extra_row = torch.tensor([[5, 0, 0]])  # Create a 1x3 tensor to match the number of columns in 'tensor'\n",
    "out = torch.cat((tensor, extra_row), dim=0)\n",
    "out"
   ]
  },
  {
   "cell_type": "code",
   "execution_count": 6,
   "id": "139edc96-3867-4c5f-92c1-02d32638e4fc",
   "metadata": {},
   "outputs": [
    {
     "name": "stdout",
     "output_type": "stream",
     "text": [
      "tensor([[1, 2, 3, 7],\n",
      "        [4, 5, 6, 8]])\n"
     ]
    }
   ],
   "source": [
    "tensor1 = torch.tensor([[1, 2, 3], [4, 5, 6]])\n",
    "tensor2 = torch.tensor([[7], [8]])  # Create a 2x1 tensor to concatenate along columns\n",
    "\n",
    "out = torch.cat((tensor1, tensor2), dim=1)\n",
    "\n",
    "print(out)"
   ]
  },
  {
   "cell_type": "code",
   "execution_count": 7,
   "id": "57dd2877-07a4-421f-8d59-4e9948a6b9b6",
   "metadata": {},
   "outputs": [
    {
     "name": "stdout",
     "output_type": "stream",
     "text": [
      "tensor([[1.],\n",
      "        [1.],\n",
      "        [1.]])\n",
      "tensor([[0., 0., 0., 1.],\n",
      "        [0., 0., 0., 1.],\n",
      "        [0., 0., 0., 1.],\n",
      "        [1., 1., 1., 1.]])\n"
     ]
    }
   ],
   "source": [
    "a = torch.zeros(3,3)\n",
    "x = torch.ones(3,1)\n",
    "print(x)\n",
    "a_dash = torch.cat((a,x), dim = 1)\n",
    "y = torch.ones(1,4)\n",
    "a_dash = torch.cat((a_dash,y), dim = 0)\n",
    "print(a_dash)"
   ]
  },
  {
   "cell_type": "markdown",
   "id": "82a6b7cd-70b7-4188-b65b-0621f4754293",
   "metadata": {},
   "source": [
    "### torch.tril() and troch.triu()"
   ]
  },
  {
   "cell_type": "code",
   "execution_count": 8,
   "id": "9c186285-30b8-4620-863c-70f4b59b5ace",
   "metadata": {},
   "outputs": [
    {
     "data": {
      "text/plain": [
       "tensor([[1., 0., 0., 0., 0.],\n",
       "        [1., 1., 0., 0., 0.],\n",
       "        [1., 1., 1., 0., 0.],\n",
       "        [1., 1., 1., 1., 0.],\n",
       "        [1., 1., 1., 1., 1.]])"
      ]
     },
     "execution_count": 8,
     "metadata": {},
     "output_type": "execute_result"
    }
   ],
   "source": [
    "#triangle lower\n",
    "torch.tril(torch.ones(5,5))"
   ]
  },
  {
   "cell_type": "code",
   "execution_count": 9,
   "id": "18ee3489-fee9-47a2-b768-a06211100bd8",
   "metadata": {},
   "outputs": [
    {
     "data": {
      "text/plain": [
       "tensor([[1., 1., 1., 1., 1.],\n",
       "        [0., 1., 1., 1., 1.],\n",
       "        [0., 0., 1., 1., 1.],\n",
       "        [0., 0., 0., 1., 1.],\n",
       "        [0., 0., 0., 0., 1.]])"
      ]
     },
     "execution_count": 9,
     "metadata": {},
     "output_type": "execute_result"
    }
   ],
   "source": [
    "#triangle upper\n",
    "torch.triu(torch.ones(5,5))"
   ]
  },
  {
   "cell_type": "markdown",
   "id": "2010d455-f9a9-4df6-9ebf-49f767f91806",
   "metadata": {},
   "source": [
    "### masked fill"
   ]
  },
  {
   "cell_type": "code",
   "execution_count": 12,
   "id": "b8affb79-c790-4fb7-8dd9-45ae3ca71ce6",
   "metadata": {},
   "outputs": [
    {
     "data": {
      "text/plain": [
       "tensor([[1., 0., 0., 0., 0.],\n",
       "        [1., 1., 0., 0., 0.],\n",
       "        [1., 1., 1., 0., 0.],\n",
       "        [1., 1., 1., 1., 0.],\n",
       "        [1., 1., 1., 1., 1.]])"
      ]
     },
     "execution_count": 12,
     "metadata": {},
     "output_type": "execute_result"
    }
   ],
   "source": [
    "torch.tril(torch.ones(5,5))"
   ]
  },
  {
   "cell_type": "code",
   "execution_count": 10,
   "id": "baf8575f-e191-4b07-a65a-ad860bcd3049",
   "metadata": {},
   "outputs": [
    {
     "data": {
      "text/plain": [
       "tensor([[0., -inf, -inf, -inf, -inf],\n",
       "        [0., 0., -inf, -inf, -inf],\n",
       "        [0., 0., 0., -inf, -inf],\n",
       "        [0., 0., 0., 0., -inf],\n",
       "        [0., 0., 0., 0., 0.]])"
      ]
     },
     "execution_count": 10,
     "metadata": {},
     "output_type": "execute_result"
    }
   ],
   "source": [
    "y = torch.triu(torch.ones(5,5)) * float('-inf')\n",
    "y\n",
    "\n",
    "out = torch.zeros(5, 5).masked_fill(torch.tril(torch.ones(5,5)) == 0, float('-inf'))\n",
    "out"
   ]
  },
  {
   "cell_type": "code",
   "execution_count": 11,
   "id": "ed1bcaf7-38df-42aa-9e5d-fb23fe3e0544",
   "metadata": {},
   "outputs": [
    {
     "data": {
      "text/plain": [
       "tensor([2.7183, 2.7183])"
      ]
     },
     "execution_count": 11,
     "metadata": {},
     "output_type": "execute_result"
    }
   ],
   "source": [
    "x = torch.exp(torch.tensor([1,1]))\n",
    "x"
   ]
  },
  {
   "cell_type": "code",
   "execution_count": 12,
   "id": "8994e8b8-468e-448f-a83c-ed6606d40cb9",
   "metadata": {},
   "outputs": [
    {
     "data": {
      "text/plain": [
       "tensor([[1., 0., 0., 0., 0.],\n",
       "        [1., 1., 0., 0., 0.],\n",
       "        [1., 1., 1., 0., 0.],\n",
       "        [1., 1., 1., 1., 0.],\n",
       "        [1., 1., 1., 1., 1.]])"
      ]
     },
     "execution_count": 12,
     "metadata": {},
     "output_type": "execute_result"
    }
   ],
   "source": [
    "#torch.exp(1) = 2.71^1 = 2.71\n",
    "#torch.exp(0) = 2.71^0 = 1\n",
    "#torch.exp(-inf) = 2.71^-inf = 0\n",
    "torch.exp(out)"
   ]
  },
  {
   "cell_type": "markdown",
   "id": "5196a92b-4132-45a3-84e4-dd1bd2065ec2",
   "metadata": {},
   "source": [
    "### torch.transpose()"
   ]
  },
  {
   "cell_type": "code",
   "execution_count": 10,
   "id": "455cc9b0-0f6b-40e2-b3f3-8ae177609113",
   "metadata": {},
   "outputs": [
    {
     "name": "stdout",
     "output_type": "stream",
     "text": [
      "tensor([[[1., 1., 1.],\n",
      "         [1., 1., 1.]]])\n",
      "tensor([[[1.],\n",
      "         [1.]],\n",
      "\n",
      "        [[1.],\n",
      "         [1.]],\n",
      "\n",
      "        [[1.],\n",
      "         [1.]]])\n",
      "torch.Size([3, 2, 1])\n"
     ]
    }
   ],
   "source": [
    "#transposing dims\n",
    "x = torch.ones(1,2,3)\n",
    "print(x)\n",
    "y = x.transpose(0,2) #0th dim being interchainges with 2nd dim\n",
    "print(y)\n",
    "print(y.shape)"
   ]
  },
  {
   "cell_type": "markdown",
   "id": "815133c6-a255-4ebf-bd07-eeeca5f1cb68",
   "metadata": {},
   "source": [
    "### torch.stack()"
   ]
  },
  {
   "cell_type": "code",
   "execution_count": 14,
   "id": "5a8dcac9-2be8-4007-8e82-4b8dd6218ace",
   "metadata": {},
   "outputs": [
    {
     "name": "stdout",
     "output_type": "stream",
     "text": [
      "tensor([[0.5206, 0.5098, 0.7202],\n",
      "        [0.2938, 0.4226, 0.4245],\n",
      "        [0.6580, 0.1517, 0.7675]]) torch.Size([3, 3])\n"
     ]
    }
   ],
   "source": [
    "t1 = torch.rand(3)\n",
    "t2 = torch.rand(3)\n",
    "t3 = torch.rand(3)\n",
    "\n",
    "#stacking along a new dim\n",
    "stacked_tensor = torch.stack([t1,t2,t3])\n",
    "print(stacked_tensor, stacked_tensor.shape)"
   ]
  },
  {
   "cell_type": "code",
   "execution_count": 15,
   "id": "0ed63279-a71b-4a09-b508-e17b0b4b38b4",
   "metadata": {},
   "outputs": [],
   "source": [
    "import torch.nn as nn\n",
    "\n",
    "Linear = nn.Linear(3,3, bias = False)"
   ]
  },
  {
   "cell_type": "code",
   "execution_count": 16,
   "id": "5ae64c3c-272b-414a-b8bf-f3b5f1723e89",
   "metadata": {},
   "outputs": [
    {
     "name": "stdout",
     "output_type": "stream",
     "text": [
      "[Parameter containing:\n",
      "tensor([[-0.4734, -0.2784, -0.1956],\n",
      "        [ 0.5740, -0.5030, -0.0488],\n",
      "        [-0.4962, -0.2982, -0.4835]], requires_grad=True)]\n"
     ]
    }
   ],
   "source": [
    "print(list(Linear.parameters()))  #these parameters are learnable"
   ]
  },
  {
   "cell_type": "code",
   "execution_count": 17,
   "id": "684f61cb-4cfc-47bb-88e0-a8f09a7612b3",
   "metadata": {},
   "outputs": [
    {
     "name": "stdout",
     "output_type": "stream",
     "text": [
      "tensor([-1.6170, -0.5785, -2.5432], grad_fn=<SqueezeBackward4>)\n"
     ]
    }
   ],
   "source": [
    "tensor = torch.tensor([1,2,3], dtype = torch.float)\n",
    "print(Linear(tensor))"
   ]
  },
  {
   "cell_type": "code",
   "execution_count": 18,
   "id": "e3daa518-d1cb-4bda-a9cf-adc541370e88",
   "metadata": {},
   "outputs": [
    {
     "name": "stdout",
     "output_type": "stream",
     "text": [
      "tensor([ 0.4755, -0.5154,  0.5246]) torch.Size([3])\n"
     ]
    }
   ],
   "source": [
    "a = torch.tensor([ 0.4755, -0.5154,  0.5246])\n",
    "print(a, a.shape)"
   ]
  },
  {
   "cell_type": "code",
   "execution_count": 19,
   "id": "b4c2b1db-d4f5-47d7-b5f7-c962d836a1f2",
   "metadata": {},
   "outputs": [
    {
     "name": "stdout",
     "output_type": "stream",
     "text": [
      "tensor([1., 2., 3.]) torch.Size([3])\n"
     ]
    }
   ],
   "source": [
    "b = torch.tensor([1,2,3], dtype = torch.float)\n",
    "print(b, b.shape)"
   ]
  },
  {
   "cell_type": "code",
   "execution_count": 20,
   "id": "c45f5e60-4bf7-480f-8265-73d11874d508",
   "metadata": {},
   "outputs": [
    {
     "name": "stdout",
     "output_type": "stream",
     "text": [
      "tensor(1.0185)\n"
     ]
    }
   ],
   "source": [
    "print(sum(a*b))"
   ]
  },
  {
   "cell_type": "code",
   "execution_count": 21,
   "id": "2be701e9-6da2-49e8-bdf4-ff51aa20e426",
   "metadata": {},
   "outputs": [],
   "source": [
    "Linear = nn.Linear(2,1, bias = False)"
   ]
  },
  {
   "cell_type": "code",
   "execution_count": 22,
   "id": "5418da52-0905-41e2-b6f3-4eb13a82c0f5",
   "metadata": {},
   "outputs": [
    {
     "name": "stdout",
     "output_type": "stream",
     "text": [
      "[Parameter containing:\n",
      "tensor([[-0.6422,  0.1918]], requires_grad=True)]\n"
     ]
    }
   ],
   "source": [
    "print(list(Linear.parameters()))"
   ]
  },
  {
   "cell_type": "code",
   "execution_count": 23,
   "id": "e0f1de3c-4007-4710-bf0e-562780deb3a3",
   "metadata": {},
   "outputs": [
    {
     "name": "stdout",
     "output_type": "stream",
     "text": [
      "tensor([1., 2.]) torch.Size([2])\n"
     ]
    }
   ],
   "source": [
    "b = torch.tensor([1,2], dtype = torch.float)\n",
    "print(b, b.shape)"
   ]
  },
  {
   "cell_type": "code",
   "execution_count": 24,
   "id": "04a910f3-dcf1-469c-9ba8-3ececf951754",
   "metadata": {},
   "outputs": [
    {
     "data": {
      "text/plain": [
       "tensor([-0.2586], grad_fn=<SqueezeBackward4>)"
      ]
     },
     "execution_count": 24,
     "metadata": {},
     "output_type": "execute_result"
    }
   ],
   "source": [
    "out = Linear(b)\n",
    "out"
   ]
  },
  {
   "cell_type": "code",
   "execution_count": 25,
   "id": "666d90ef-66e1-4eba-b253-a13895ecc4c5",
   "metadata": {},
   "outputs": [
    {
     "name": "stdout",
     "output_type": "stream",
     "text": [
      "tensor([1., 2.]) torch.Size([2])\n",
      "tensor(0.6808)\n"
     ]
    }
   ],
   "source": [
    "b = torch.tensor([1,2], dtype = torch.float)\n",
    "print(b, b.shape)\n",
    "a = torch.tensor([-0.1978,  0.4393])\n",
    "\n",
    "print(sum(a*b))"
   ]
  },
  {
   "cell_type": "markdown",
   "id": "9e4cde39-b32a-4ce8-a1c7-bca872f07c73",
   "metadata": {},
   "source": [
    "### Softmax function"
   ]
  },
  {
   "cell_type": "code",
   "execution_count": 26,
   "id": "fe62a4d5-77e4-4084-97ba-044f20ecf1d9",
   "metadata": {},
   "outputs": [
    {
     "name": "stdout",
     "output_type": "stream",
     "text": [
      "tensor([0.0900, 0.2447, 0.6652])\n"
     ]
    }
   ],
   "source": [
    "import torch.nn.functional as F\n",
    "\n",
    "tensor = torch.tensor([1,2,3], dtype = torch.float32)\n",
    "#F(z) = 1/(1 + e^-z)\n",
    "softmax = F.softmax(tensor, dim=0)\n",
    "print(softmax)"
   ]
  },
  {
   "cell_type": "code",
   "execution_count": 27,
   "id": "c24d532f-6756-4e1b-86b9-95090003f8f2",
   "metadata": {},
   "outputs": [
    {
     "data": {
      "text/plain": [
       "tensor([0.7311, 0.8808, 0.9526])"
      ]
     },
     "execution_count": 27,
     "metadata": {},
     "output_type": "execute_result"
    }
   ],
   "source": [
    "sigmoid = F.sigmoid(tensor)\n",
    "sigmoid"
   ]
  },
  {
   "cell_type": "code",
   "execution_count": 28,
   "id": "cd0b7efc-5f89-4bac-a3f5-7793261d74f0",
   "metadata": {},
   "outputs": [],
   "source": [
    "sigmoid = lambda z: (1/(1 + torch.exp(-z)))"
   ]
  },
  {
   "cell_type": "code",
   "execution_count": 29,
   "id": "ebd4c7a8-96b1-4d9f-a0bf-7e8d75eeef27",
   "metadata": {},
   "outputs": [
    {
     "name": "stdout",
     "output_type": "stream",
     "text": [
      "tensor([0.7311, 0.8808, 0.9526])\n"
     ]
    }
   ],
   "source": [
    "print(sigmoid(tensor))"
   ]
  },
  {
   "cell_type": "code",
   "execution_count": 30,
   "id": "b56ff846-a199-4f8a-91a9-d6d31a8f226e",
   "metadata": {},
   "outputs": [],
   "source": [
    "linspace = torch.linspace(3, 10, steps=8)"
   ]
  },
  {
   "cell_type": "code",
   "execution_count": 31,
   "id": "603c8a5c-5bc7-43cc-a671-6d6165cda26f",
   "metadata": {},
   "outputs": [],
   "source": [
    "softmax = lambda z: torch.exp(z)/(sum(torch.exp(z)))"
   ]
  },
  {
   "cell_type": "code",
   "execution_count": 32,
   "id": "252801a4-a669-4206-b9d6-20f6da8e846a",
   "metadata": {},
   "outputs": [
    {
     "name": "stdout",
     "output_type": "stream",
     "text": [
      "tensor([0.0900, 0.2447, 0.6652]) tensor([0.0900, 0.2447, 0.6652])\n"
     ]
    }
   ],
   "source": [
    "tensor = torch.tensor([1,2,3], dtype = torch.float32)\n",
    "#F(z) = 1/(1 + e^-z)\n",
    "softmax_out = F.softmax(tensor, dim=0)\n",
    "softmax = lambda z: torch.exp(z)/(sum(torch.exp(z)))\n",
    "print(softmax_out, softmax(tensor))"
   ]
  },
  {
   "cell_type": "code",
   "execution_count": 33,
   "id": "6c1a9d12-8b51-492e-90c9-c22927ccd3ad",
   "metadata": {},
   "outputs": [],
   "source": [
    "import matplotlib.pyplot as plt"
   ]
  },
  {
   "cell_type": "code",
   "execution_count": 34,
   "id": "234e01e0-1b7b-4439-8951-4e7e19d0be27",
   "metadata": {},
   "outputs": [
    {
     "data": {
      "image/png": "[encoded data removed]",
      "text/plain": [
       "<Figure size 640x480 with 1 Axes>"
      ]
     },
     "metadata": {},
     "output_type": "display_data"
    }
   ],
   "source": [
    "sigmoid = lambda z: (1/(1 + torch.exp(-z)))\n",
    "linspace = torch.linspace(-10, 10, 101)\n",
    "plt.plot(linspace, sigmoid(linspace))\n",
    "plt.title('Sigmoid curve')\n",
    "plt.show()"
   ]
  },
  {
   "cell_type": "code",
   "execution_count": 35,
   "id": "87440165-deea-4ed5-809a-6e7a6b9754f3",
   "metadata": {},
   "outputs": [
    {
     "data": {
      "image/png": "[encoded data removed]",
      "text/plain": [
       "<Figure size 640x480 with 1 Axes>"
      ]
     },
     "metadata": {},
     "output_type": "display_data"
    }
   ],
   "source": [
    "softmax = lambda z: torch.exp(z)/(sum(torch.exp(z)))\n",
    "linspace = torch.linspace(0, 100, 101)\n",
    "plt.plot(linspace, softmax(linspace))\n",
    "plt.title('Softmax')\n",
    "plt.show()"
   ]
  },
  {
   "cell_type": "markdown",
   "id": "5d71691a-61ed-46de-8008-af0a7dfab90b",
   "metadata": {},
   "source": [
    "### Embedding layer"
   ]
  },
  {
   "cell_type": "code",
   "execution_count": 36,
   "id": "4c7e40c7-c1c1-4588-ab6b-76eb42db77a2",
   "metadata": {},
   "outputs": [
    {
     "name": "stdout",
     "output_type": "stream",
     "text": [
      "torch.Size([86, 100]) 1\n",
      "torch.Size([5, 100])\n"
     ]
    }
   ],
   "source": [
    "vocab_size = 86 # from bigram model\n",
    "embedding_Dim = 100\n",
    "embedding = nn.Embedding(vocab_size, embedding_Dim)\n",
    "\n",
    "embedding_parameters = list(embedding.parameters())\n",
    "\n",
    "print(embedding_parameters[0].shape, len(embedding_parameters))\n",
    "\n",
    "hello_encodings = torch.tensor([56, 53, 60, 60, 63])\n",
    "\n",
    "embedded_output = embedding(hello_encodings)\n",
    "\n",
    "print(embedded_output.shape)"
   ]
  },
  {
   "cell_type": "code",
   "execution_count": 13,
   "id": "545abbf9-4c3f-451b-a0cc-a5979439d0d1",
   "metadata": {},
   "outputs": [
    {
     "name": "stdout",
     "output_type": "stream",
     "text": [
      "torch.Size([5])\n"
     ]
    }
   ],
   "source": [
    "hello_encodings = torch.tensor([56, 53, 60, 60, 63])\n",
    "print(hello_encodings.shape)"
   ]
  },
  {
   "cell_type": "code",
   "execution_count": 38,
   "id": "2467281e-53b3-47a8-abae-439c3f1a0ab9",
   "metadata": {},
   "outputs": [
    {
     "name": "stdout",
     "output_type": "stream",
     "text": [
      "torch.Size([86, 86]) 1\n",
      "torch.Size([5, 86])\n"
     ]
    }
   ],
   "source": [
    "vocab_size = 86 # from bigram model\n",
    "embedding = nn.Embedding(vocab_size, vocab_size)\n",
    "\n",
    "embedding_parameters = list(embedding.parameters())\n",
    "\n",
    "print(embedding_parameters[0].shape, len(embedding_param eters))\n",
    "\n",
    "hello_encodings = torch.tensor([56, 53, 60, 60, 63])\n",
    "\n",
    "embedded_output = embedding(hello_encodings)\n",
    "\n",
    "print(embedded_output.shape)"
   ]
  },
  {
   "cell_type": "markdown",
   "id": "eec301e5-86a7-49c8-b2b3-230b8ef9246b",
   "metadata": {},
   "source": [
    "In this case, the input tensor with a length of 5 means we're looking up embeddings for 5 specific indices out of the total 86 in your vocabulary. The output is a tensor with shape [5, 100], where each row corresponds to one of the 5 input indices, and each row contains the 100-dimensional embedding vector for that index."
   ]
  },
  {
   "cell_type": "code",
   "execution_count": 169,
   "id": "93cbedc5-93a8-4b69-aa2e-3a1c3e2f44b4",
   "metadata": {},
   "outputs": [
    {
     "name": "stdout",
     "output_type": "stream",
     "text": [
      "tensor(14) tensor(14)\n"
     ]
    }
   ],
   "source": [
    "a = torch.tensor([1,2,3])\n",
    "b = torch.tensor([1,2,3])\n",
    "print(sum(a*b), torch.dot(a,b))"
   ]
  },
  {
   "cell_type": "code",
   "execution_count": 177,
   "id": "13312c40-ea8b-45ed-a71e-ff6c410c15fe",
   "metadata": {},
   "outputs": [
    {
     "name": "stdout",
     "output_type": "stream",
     "text": [
      "torch.Size([3, 2])\n",
      "torch.Size([2, 3])\n",
      "tensor([[ 27,  30,  33],\n",
      "        [ 61,  68,  75],\n",
      "        [ 95, 106, 117]]) tensor([[ 27,  30,  33],\n",
      "        [ 61,  68,  75],\n",
      "        [ 95, 106, 117]])\n"
     ]
    }
   ],
   "source": [
    "a = torch.tensor([[1,2], [3,4], [5,6]])\n",
    "print(a.shape)\n",
    "b = torch.tensor([[7,8,9], [10,11,12]])\n",
    "print(b.shape)\n",
    "print(a@b, torch.matmul(a,b))"
   ]
  },
  {
   "cell_type": "code",
   "execution_count": 181,
   "id": "eb3cf9a5-4580-4c08-9ccc-4aae2e57ae1e",
   "metadata": {},
   "outputs": [
    {
     "name": "stdout",
     "output_type": "stream",
     "text": [
      "tensor([[-0.3534,  1.1887, -0.9036],\n",
      "        [-0.1809,  1.7282, -1.4746]], grad_fn=<MmBackward0>)\n"
     ]
    }
   ],
   "source": [
    "Linear = nn.Linear(3,3, bias = False)\n",
    "tensor = torch.tensor([[1,2,3], [4,5,6]], dtype = torch.float)\n",
    "print(Linear(tensor))"
   ]
  },
  {
   "cell_type": "code",
   "execution_count": 200,
   "id": "942bff61-a29d-4efb-b4c3-cb711b953016",
   "metadata": {},
   "outputs": [
    {
     "name": "stdout",
     "output_type": "stream",
     "text": [
      "Linear Output:  tensor([[-1.1620, -0.4910, -0.7085],\n",
      "        [-2.6866, -1.1190, -2.8460]], grad_fn=<MmBackward0>)\n",
      "tensor([[1., 2., 3.],\n",
      "        [4., 5., 6.]]) Parameter containing:\n",
      "tensor([[-0.0694, -0.2236, -0.2151],\n",
      "        [-0.3312,  0.5254, -0.4035],\n",
      "        [-0.4473, -0.5345,  0.2693]], requires_grad=True)\n",
      "tensor([[-1.1620, -0.4910, -0.7085],\n",
      "        [-2.6866, -1.1190, -2.8460]], grad_fn=<MmBackward0>)\n"
     ]
    }
   ],
   "source": [
    "import torch.nn as nn\n",
    "\n",
    "Linear = nn.Linear(3,3, bias = False)\n",
    "tensor = torch.tensor([[1,2,3], [4,5,6]], dtype = torch.float)\n",
    "\n",
    "print(f\"Linear Output:  {Linear(tensor)}\")\n",
    "\n",
    "params = (list(Linear.parameters()))\n",
    "print(tensor, params[0])\n",
    "print(tensor@params[0].T)"
   ]
  },
  {
   "cell_type": "markdown",
   "id": "b75065b9-db9e-4ca9-8044-68a57009330e",
   "metadata": {},
   "source": [
    "### .view() "
   ]
  },
  {
   "cell_type": "code",
   "execution_count": 45,
   "id": "e3c17d6c-d90c-46aa-a30f-a648d703279b",
   "metadata": {},
   "outputs": [
    {
     "data": {
      "text/plain": [
       "tensor([[[0.6982, 0.7794],\n",
       "         [0.8029, 0.2196]],\n",
       "\n",
       "        [[0.2207, 0.0576],\n",
       "         [0.4873, 0.3082]]])"
      ]
     },
     "execution_count": 45,
     "metadata": {},
     "output_type": "execute_result"
    }
   ],
   "source": [
    "a = torch.rand(2,2,2)\n",
    "a"
   ]
  },
  {
   "cell_type": "code",
   "execution_count": 46,
   "id": "076a273c-ba6b-413c-8e86-644a5cd592ba",
   "metadata": {},
   "outputs": [
    {
     "data": {
      "text/plain": [
       "torch.Size([2, 2, 2])"
      ]
     },
     "execution_count": 46,
     "metadata": {},
     "output_type": "execute_result"
    }
   ],
   "source": [
    "a.shape"
   ]
  },
  {
   "cell_type": "code",
   "execution_count": 47,
   "id": "327c6e0d-ba51-49ac-8f07-e6f0a2af436e",
   "metadata": {},
   "outputs": [
    {
     "data": {
      "text/plain": [
       "tensor([[0.6982, 0.7794],\n",
       "        [0.8029, 0.2196],\n",
       "        [0.2207, 0.0576],\n",
       "        [0.4873, 0.3082]])"
      ]
     },
     "execution_count": 47,
     "metadata": {},
     "output_type": "execute_result"
    }
   ],
   "source": [
    "a = a.view(a.shape[0]*a.shape[1], a.shape[2])\n",
    "a"
   ]
  },
  {
   "cell_type": "code",
   "execution_count": 48,
   "id": "e8f5ab14-ddbd-45b9-ab52-3a4412fbd9a3",
   "metadata": {},
   "outputs": [
    {
     "data": {
      "text/plain": [
       "torch.Size([4, 2])"
      ]
     },
     "execution_count": 48,
     "metadata": {},
     "output_type": "execute_result"
    }
   ],
   "source": [
    "a.shape"
   ]
  },
  {
   "cell_type": "markdown",
   "id": "0dee3996-4b89-41c7-9e3f-3280f04897da",
   "metadata": {},
   "source": []
  },
  {
   "cell_type": "code",
   "execution_count": null,
   "id": "ec5470dc-7379-4260-9cdb-8e77ca92b58b",
   "metadata": {},
   "outputs": [],
   "source": [
    "nn.Embedding(vocab_size, vocab_size)"
   ]
  },
  {
   "cell_type": "markdown",
   "id": "ee0752c6-2bd9-411e-9d9b-2f942c5692bc",
   "metadata": {},
   "source": [
    "### Activation Functions"
   ]
  },
  {
   "cell_type": "markdown",
   "id": "8ba06d36-e353-4f9c-8896-31c971842b09",
   "metadata": {},
   "source": [
    "#### ReLU"
   ]
  },
  {
   "cell_type": "code",
   "execution_count": 70,
   "id": "afd46cc4-206f-46e0-8888-a357a6fd566c",
   "metadata": {},
   "outputs": [
    {
     "data": {
      "image/png": "[encoded data removed]",
      "text/plain": [
       "<Figure size 640x480 with 1 Axes>"
      ]
     },
     "metadata": {},
     "output_type": "display_data"
    }
   ],
   "source": [
    "m = nn.ReLU()\n",
    "input = torch.linspace(-100, 100, 201)\n",
    "output = m(input)\n",
    "plt.plot(output)\n",
    "plt.grid()\n",
    "plt.title('ReLU Activation')\n",
    "plt.show()"
   ]
  },
  {
   "cell_type": "code",
   "execution_count": 69,
   "id": "a3f45a8a-6ba2-462c-9895-ef7c4445cf9a",
   "metadata": {},
   "outputs": [
    {
     "data": {
      "image/png": "[encoded data removed]",
      "text/plain": [
       "<Figure size 640x480 with 1 Axes>"
      ]
     },
     "metadata": {},
     "output_type": "display_data"
    }
   ],
   "source": [
    "m = nn.Sigmoid()\n",
    "input = torch.linspace(-100, 100, 201)\n",
    "output = m(input)\n",
    "plt.plot(output)\n",
    "plt.grid()\n",
    "plt.title('Sigmoid Activation')\n",
    "plt.show()"
   ]
  },
  {
   "cell_type": "code",
   "execution_count": 68,
   "id": "959eb090-dfdd-47fe-9bb9-1377636f7da9",
   "metadata": {},
   "outputs": [
    {
     "data": {
      "image/png": "[encoded data removed]",
      "text/plain": [
       "<Figure size 640x480 with 1 Axes>"
      ]
     },
     "metadata": {},
     "output_type": "display_data"
    }
   ],
   "source": [
    "m = nn.Tanh()\n",
    "input = torch.linspace(-100, 100, 201)\n",
    "output = m(input)\n",
    "plt.plot(output)\n",
    "plt.title('Tanh Activation')\n",
    "plt.grid()\n",
    "plt.show()"
   ]
  },
  {
   "cell_type": "markdown",
   "id": "4106a5ca-687e-4a18-99cf-5daad7544e23",
   "metadata": {},
   "source": [
    "gpt Model"
   ]
  },
  {
   "cell_type": "code",
   "execution_count": 9,
   "id": "7524325c-6c3f-464e-904b-70d1a7978206",
   "metadata": {},
   "outputs": [
    {
     "name": "stdout",
     "output_type": "stream",
     "text": [
      "Token embedding parameters: (torch.Size([86, 384]), 1)\n",
      "input sequence shape: torch.Size([4, 8])\n",
      "token embedding output shape: torch.Size([4, 8, 384])\n",
      "positional embedding output shape: torch.Size([8, 384])\n",
      "output shape: torch.Size([4, 8, 384])\n"
     ]
    }
   ],
   "source": [
    "import torch.nn as nn\n",
    "block_size = 8\n",
    "n_embedd = 384\n",
    "vocab_size = 86 # from bigram model\n",
    "\n",
    "embedding = nn.Embedding(vocab_size, n_embedd)  #character level in context of the vocab size (wrt vocabulary)\n",
    "positional = nn.Embedding(block_size, n_embedd)#positional_embedding = nn.Embedding(block_size, n_embedd) #postion of each character in a block input- position in context of each charater appearing in the block (wrt position of each character in a block)\n",
    "\n",
    "embedding_parameters = list(embedding.parameters())\n",
    "\n",
    "print(f'Token embedding parameters: {embedding_parameters[0].shape, len(embedding_parameters)}')\n",
    "\n",
    "input_seq = torch.randint(86, (4,8))\n",
    "print(f'input sequence shape: {input_seq.shape}')\n",
    "\n",
    "embedded_output = embedding(input_seq)\n",
    "print(f'token embedding output shape: {embedded_output.shape}')\n",
    "\n",
    "B,T,C = embedded_output.shape\n",
    "\n",
    "positional_embed = positional(torch.arange(T))\n",
    "print(f'positional embedding output shape: {positional_embed.shape}')\n",
    "\n",
    "x = embedded_output + positional_embed #broadcasting\n",
    "print(f'output shape: {x.shape}')"
   ]
  },
  {
   "cell_type": "markdown",
   "id": "d6682eef-6083-4cad-aa13-04931c5693e9",
   "metadata": {},
   "source": [
    "### ViT "
   ]
  },
  {
   "cell_type": "markdown",
   "id": "8f392ca4-5a7f-4688-a7d3-f49ed2d31c87",
   "metadata": {},
   "source": [
    "### nn.Parameter:\n",
    "In PyTorch, nn.Parameter is a class that is used to define parameters (tensors) that are meant to be updated during the training process of a neural network. It is a wrapper for tensors that are registered as parameters of a module when assigned as an attribute to an nn.Module subclass."
   ]
  },
  {
   "cell_type": "code",
   "execution_count": 10,
   "id": "862f21ce-0407-4e47-94b0-93768ac0f23b",
   "metadata": {},
   "outputs": [],
   "source": [
    "class PatchEmbedding(nn.Module):\n",
    "    def __init__(self, in_channels = 3, patch_size:int = 16, embedding_dim:int = 768):  #embedding dim = patch_size * num_channels = 16*16*3 = 768\n",
    "        super().__init__()\n",
    "        #convert image in patches\n",
    "        self.patch = nn.Conv2d(in_channels = in_channels, \n",
    "                               out_channels= embedding_dim, \n",
    "                               kernel_size=patch_size,\n",
    "                                stride=patch_size, padding = 0) #ouput = 14*14*768  \n",
    "        ## output dim - 14 *14 patches each of size (16*16*3) ->768\n",
    "        ##falttening the patch feature maps into single dim\n",
    "        self.flatten = nn.Flatten(start_dim = 2, end_dim = 3)\n",
    "    def forward(self,x):\n",
    "        x_patched = self.patch(x)\n",
    "        print(f'patched dim: {x_patched.shape}')\n",
    "        x_flatten = self.flatten(x_patched)\n",
    "        print(f'flatten dim: {x_flatten.shape}')\n",
    "        return x_flatten.permute(0,2,1)  #adjusting (1,768,196) so embedding is on the final dim = (batch_size, 196,768)  "
   ]
  },
  {
   "cell_type": "code",
   "execution_count": 19,
   "id": "4c729a49-9b9d-4d3c-99b4-24171dff9870",
   "metadata": {},
   "outputs": [
    {
     "name": "stdout",
     "output_type": "stream",
     "text": [
      "patched dim: torch.Size([32, 768, 14, 14])\n",
      "flatten dim: torch.Size([32, 768, 196])\n",
      "patched ouput shape: torch.Size([32, 196, 768])\n",
      "tokens shape for token embedding: torch.Size([32, 1, 768])\n",
      "shape after concatenation: torch.Size([32, 197, 768])\n",
      "tokens shape for position embedding: torch.Size([1, 197, 768])\n",
      "Embedding ouput: torch.Size([32, 197, 768])\n"
     ]
    }
   ],
   "source": [
    "batch_size = 32\n",
    "embedding_dim = 768\n",
    "height = 224\n",
    "width = 224\n",
    "patch_size = 16\n",
    "in_channels=3\n",
    "\n",
    "create_patch = PatchEmbedding(in_channels, patch_size, embedding_dim)\n",
    "\n",
    "random_tensor = torch.rand((batch_size,3,width,height))  #(batch_size, in_channels, height, width)\n",
    "patched_output = create_patch(random_tensor)\n",
    "print(f'patched ouput shape: {patched_output.shape}')\n",
    "\n",
    "tokens = nn.Parameter(torch.ones(batch_size, 1, embedding_dim ), requires_grad = True)  ##learnable parameters\n",
    "print(f'tokens shape for token embedding: {tokens.shape}')\n",
    "\n",
    "##concatenating tokens\n",
    "patch_embedding_with_class_tokens = torch.cat([tokens, patched_output], dim =1)\n",
    "print(f'shape after concatenation: {patch_embedding_with_class_tokens.shape}')\n",
    "\n",
    "##position embedding \n",
    "number_of_patches = (height*width) // (patch_size**2)  #14*14 = 196\n",
    "\n",
    "positional_encoding = nn.Parameter(torch.ones(1, number_of_patches + 1, embedding_dim), requires_grad = True)\n",
    "print(f'tokens shape for position embedding: {positional_encoding.shape}')\n",
    "\n",
    "embedd_output = patch_embedding_with_class_tokens + positional_encoding\n",
    "\n",
    "print(f'Embedding ouput: {embedd_output.shape}')\n",
    "                                   "
   ]
  },
  {
   "cell_type": "code",
   "execution_count": null,
   "id": "f346c364-5c98-46fc-a99f-2eaa75a6a08e",
   "metadata": {},
   "outputs": [],
   "source": []
  }
 ],
 "metadata": {
  "kernelspec": {
   "display_name": "cuda-llm",
   "language": "python",
   "name": "cuda"
  },
  "language_info": {
   "codemirror_mode": {
    "name": "ipython",
    "version": 3
   },
   "file_extension": ".py",
   "mimetype": "text/x-python",
   "name": "python",
   "nbconvert_exporter": "python",
   "pygments_lexer": "ipython3",
   "version": "3.8.8"
  }
 },
 "nbformat": 4,
 "nbformat_minor": 5
}
